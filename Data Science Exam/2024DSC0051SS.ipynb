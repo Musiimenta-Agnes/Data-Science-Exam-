{
 "cells": [
  {
   "cell_type": "code",
   "execution_count": 80,
   "id": "203565ea",
   "metadata": {},
   "outputs": [],
   "source": [
    "import numpy as np"
   ]
  },
  {
   "cell_type": "code",
   "execution_count": 81,
   "id": "ba352f49",
   "metadata": {},
   "outputs": [],
   "source": [
    "import pandas as pd"
   ]
  },
  {
   "cell_type": "code",
   "execution_count": 82,
   "id": "aabf5973",
   "metadata": {},
   "outputs": [],
   "source": [
    "import matplotlib.pyplot as plt"
   ]
  },
  {
   "cell_type": "code",
   "execution_count": 83,
   "id": "3288669c",
   "metadata": {},
   "outputs": [],
   "source": [
    "import seaborn as sns"
   ]
  },
  {
   "cell_type": "code",
   "execution_count": 84,
   "id": "0ffa4fd3",
   "metadata": {},
   "outputs": [],
   "source": [
    "# This is my work and the numbers that I was abel to attempt"
   ]
  },
  {
   "cell_type": "markdown",
   "id": "705a0eb6",
   "metadata": {},
   "source": [
    "#  Qustion .2.\n",
    "Exploratory Data Analysis: The student performance dataset provides a detailed overview of\n",
    "student performance in various schools, focusing on academic achievements and demographic factors.\n",
    "\n",
    "\n",
    "(a) For each gender, which major has the highest total study hours per week? (2 marks)\n",
    "\n",
    "\n",
    "(b) Which gender has the highest overall average attendance rate? Return the gender and the average\n",
    "attendance rate? (3 marks)\n",
    "\n",
    "\n",
    "(c) What percentage of students have part-time jobs, and what percentage have no part-time jobs?\n",
    "(5 marks)\n",
    "\n",
    "\n",
    "(d) For each gender, what is the mean GPA and variance of age? (5 marks)\n",
    "\n",
    "\n",
    "(e) Create a visualization that effectively shows if there is a relationship between any two variables\n",
    "of your choice. Your answer must be given in a single pipe. (5 marks)\n"
   ]
  },
  {
   "cell_type": "markdown",
   "id": "1060f8cc",
   "metadata": {},
   "source": [
    "# a) For each gender, which major has the highest total study hours per week? (2 marks)"
   ]
  },
  {
   "cell_type": "code",
   "execution_count": null,
   "id": "f420ca1b",
   "metadata": {},
   "outputs": [],
   "source": []
  },
  {
   "cell_type": "code",
   "execution_count": null,
   "id": "230fbf4a",
   "metadata": {},
   "outputs": [],
   "source": []
  },
  {
   "cell_type": "code",
   "execution_count": 85,
   "id": "19c87e44",
   "metadata": {
    "scrolled": false
   },
   "outputs": [
    {
     "data": {
      "text/html": [
       "<div>\n",
       "<style scoped>\n",
       "    .dataframe tbody tr th:only-of-type {\n",
       "        vertical-align: middle;\n",
       "    }\n",
       "\n",
       "    .dataframe tbody tr th {\n",
       "        vertical-align: top;\n",
       "    }\n",
       "\n",
       "    .dataframe thead th {\n",
       "        text-align: right;\n",
       "    }\n",
       "</style>\n",
       "<table border=\"1\" class=\"dataframe\">\n",
       "  <thead>\n",
       "    <tr style=\"text-align: right;\">\n",
       "      <th></th>\n",
       "      <th>StudentID</th>\n",
       "      <th>Gender</th>\n",
       "      <th>Age</th>\n",
       "      <th>StudyHoursPerWeek</th>\n",
       "      <th>AttendanceRate</th>\n",
       "      <th>GPA</th>\n",
       "      <th>Major</th>\n",
       "      <th>PartTimeJob</th>\n",
       "      <th>ExtraCurricularActivities</th>\n",
       "    </tr>\n",
       "  </thead>\n",
       "  <tbody>\n",
       "    <tr>\n",
       "      <th>0</th>\n",
       "      <td>1</td>\n",
       "      <td>Male</td>\n",
       "      <td>24</td>\n",
       "      <td>37</td>\n",
       "      <td>90.75</td>\n",
       "      <td>3.47</td>\n",
       "      <td>Arts</td>\n",
       "      <td>Yes</td>\n",
       "      <td>No</td>\n",
       "    </tr>\n",
       "    <tr>\n",
       "      <th>1</th>\n",
       "      <td>2</td>\n",
       "      <td>Female</td>\n",
       "      <td>22</td>\n",
       "      <td>37</td>\n",
       "      <td>74.90</td>\n",
       "      <td>2.32</td>\n",
       "      <td>Education</td>\n",
       "      <td>No</td>\n",
       "      <td>No</td>\n",
       "    </tr>\n",
       "    <tr>\n",
       "      <th>2</th>\n",
       "      <td>3</td>\n",
       "      <td>Male</td>\n",
       "      <td>22</td>\n",
       "      <td>10</td>\n",
       "      <td>53.36</td>\n",
       "      <td>2.38</td>\n",
       "      <td>Business</td>\n",
       "      <td>No</td>\n",
       "      <td>No</td>\n",
       "    </tr>\n",
       "    <tr>\n",
       "      <th>3</th>\n",
       "      <td>4</td>\n",
       "      <td>Male</td>\n",
       "      <td>24</td>\n",
       "      <td>10</td>\n",
       "      <td>70.26</td>\n",
       "      <td>3.46</td>\n",
       "      <td>Science</td>\n",
       "      <td>Yes</td>\n",
       "      <td>No</td>\n",
       "    </tr>\n",
       "    <tr>\n",
       "      <th>4</th>\n",
       "      <td>5</td>\n",
       "      <td>Male</td>\n",
       "      <td>18</td>\n",
       "      <td>19</td>\n",
       "      <td>74.87</td>\n",
       "      <td>2.31</td>\n",
       "      <td>Education</td>\n",
       "      <td>Yes</td>\n",
       "      <td>No</td>\n",
       "    </tr>\n",
       "    <tr>\n",
       "      <th>...</th>\n",
       "      <td>...</td>\n",
       "      <td>...</td>\n",
       "      <td>...</td>\n",
       "      <td>...</td>\n",
       "      <td>...</td>\n",
       "      <td>...</td>\n",
       "      <td>...</td>\n",
       "      <td>...</td>\n",
       "      <td>...</td>\n",
       "    </tr>\n",
       "    <tr>\n",
       "      <th>495</th>\n",
       "      <td>496</td>\n",
       "      <td>Male</td>\n",
       "      <td>22</td>\n",
       "      <td>37</td>\n",
       "      <td>76.61</td>\n",
       "      <td>2.97</td>\n",
       "      <td>Science</td>\n",
       "      <td>No</td>\n",
       "      <td>No</td>\n",
       "    </tr>\n",
       "    <tr>\n",
       "      <th>496</th>\n",
       "      <td>497</td>\n",
       "      <td>Male</td>\n",
       "      <td>23</td>\n",
       "      <td>11</td>\n",
       "      <td>56.29</td>\n",
       "      <td>3.20</td>\n",
       "      <td>Science</td>\n",
       "      <td>No</td>\n",
       "      <td>No</td>\n",
       "    </tr>\n",
       "    <tr>\n",
       "      <th>497</th>\n",
       "      <td>498</td>\n",
       "      <td>Female</td>\n",
       "      <td>20</td>\n",
       "      <td>6</td>\n",
       "      <td>56.64</td>\n",
       "      <td>3.20</td>\n",
       "      <td>Science</td>\n",
       "      <td>No</td>\n",
       "      <td>Yes</td>\n",
       "    </tr>\n",
       "    <tr>\n",
       "      <th>498</th>\n",
       "      <td>499</td>\n",
       "      <td>Male</td>\n",
       "      <td>22</td>\n",
       "      <td>18</td>\n",
       "      <td>57.18</td>\n",
       "      <td>2.05</td>\n",
       "      <td>Business</td>\n",
       "      <td>No</td>\n",
       "      <td>Yes</td>\n",
       "    </tr>\n",
       "    <tr>\n",
       "      <th>499</th>\n",
       "      <td>500</td>\n",
       "      <td>Female</td>\n",
       "      <td>24</td>\n",
       "      <td>21</td>\n",
       "      <td>96.99</td>\n",
       "      <td>2.64</td>\n",
       "      <td>Engineering</td>\n",
       "      <td>No</td>\n",
       "      <td>No</td>\n",
       "    </tr>\n",
       "  </tbody>\n",
       "</table>\n",
       "<p>500 rows × 9 columns</p>\n",
       "</div>"
      ],
      "text/plain": [
       "     StudentID  Gender  Age  StudyHoursPerWeek  AttendanceRate   GPA  \\\n",
       "0            1    Male   24                 37           90.75  3.47   \n",
       "1            2  Female   22                 37           74.90  2.32   \n",
       "2            3    Male   22                 10           53.36  2.38   \n",
       "3            4    Male   24                 10           70.26  3.46   \n",
       "4            5    Male   18                 19           74.87  2.31   \n",
       "..         ...     ...  ...                ...             ...   ...   \n",
       "495        496    Male   22                 37           76.61  2.97   \n",
       "496        497    Male   23                 11           56.29  3.20   \n",
       "497        498  Female   20                  6           56.64  3.20   \n",
       "498        499    Male   22                 18           57.18  2.05   \n",
       "499        500  Female   24                 21           96.99  2.64   \n",
       "\n",
       "           Major PartTimeJob ExtraCurricularActivities  \n",
       "0           Arts         Yes                        No  \n",
       "1      Education          No                        No  \n",
       "2       Business          No                        No  \n",
       "3        Science         Yes                        No  \n",
       "4      Education         Yes                        No  \n",
       "..           ...         ...                       ...  \n",
       "495      Science          No                        No  \n",
       "496      Science          No                        No  \n",
       "497      Science          No                       Yes  \n",
       "498     Business          No                       Yes  \n",
       "499  Engineering          No                        No  \n",
       "\n",
       "[500 rows x 9 columns]"
      ]
     },
     "execution_count": 85,
     "metadata": {},
     "output_type": "execute_result"
    }
   ],
   "source": [
    "# First load the data from students performance dataset as a csv file and load it in your notebook using pandas like this;\n",
    "# Import pandas first\n",
    "# Then read the data using pd.read_csv because it is a csv file\n",
    "\n",
    "data = pd.read_csv('student_performance_data (2).csv')\n",
    "data"
   ]
  },
  {
   "cell_type": "code",
   "execution_count": 86,
   "id": "c38cb021",
   "metadata": {},
   "outputs": [
    {
     "data": {
      "text/plain": [
       "<pandas.core.groupby.generic.DataFrameGroupBy object at 0x000001EF582CF090>"
      ]
     },
     "execution_count": 86,
     "metadata": {},
     "output_type": "execute_result"
    }
   ],
   "source": [
    "# First I have to group the data into two groups of Gender and Major and then the sum of the StudyHoursPerWeek\n",
    "grouped_data = data.groupby(['Gender','Major'])\n",
    "grouped_data\n"
   ]
  },
  {
   "cell_type": "code",
   "execution_count": 87,
   "id": "e481770b",
   "metadata": {
    "scrolled": false
   },
   "outputs": [
    {
     "data": {
      "text/html": [
       "<div>\n",
       "<style scoped>\n",
       "    .dataframe tbody tr th:only-of-type {\n",
       "        vertical-align: middle;\n",
       "    }\n",
       "\n",
       "    .dataframe tbody tr th {\n",
       "        vertical-align: top;\n",
       "    }\n",
       "\n",
       "    .dataframe thead th {\n",
       "        text-align: right;\n",
       "    }\n",
       "</style>\n",
       "<table border=\"1\" class=\"dataframe\">\n",
       "  <thead>\n",
       "    <tr style=\"text-align: right;\">\n",
       "      <th></th>\n",
       "      <th>Major</th>\n",
       "      <th>Gender</th>\n",
       "      <th>StudyHoursPerWeek</th>\n",
       "    </tr>\n",
       "  </thead>\n",
       "  <tbody>\n",
       "    <tr>\n",
       "      <th>0</th>\n",
       "      <td>Arts</td>\n",
       "      <td>Male</td>\n",
       "      <td>37</td>\n",
       "    </tr>\n",
       "    <tr>\n",
       "      <th>1</th>\n",
       "      <td>Education</td>\n",
       "      <td>Female</td>\n",
       "      <td>37</td>\n",
       "    </tr>\n",
       "    <tr>\n",
       "      <th>2</th>\n",
       "      <td>Business</td>\n",
       "      <td>Male</td>\n",
       "      <td>10</td>\n",
       "    </tr>\n",
       "    <tr>\n",
       "      <th>3</th>\n",
       "      <td>Science</td>\n",
       "      <td>Male</td>\n",
       "      <td>10</td>\n",
       "    </tr>\n",
       "    <tr>\n",
       "      <th>4</th>\n",
       "      <td>Education</td>\n",
       "      <td>Male</td>\n",
       "      <td>19</td>\n",
       "    </tr>\n",
       "    <tr>\n",
       "      <th>...</th>\n",
       "      <td>...</td>\n",
       "      <td>...</td>\n",
       "      <td>...</td>\n",
       "    </tr>\n",
       "    <tr>\n",
       "      <th>495</th>\n",
       "      <td>Science</td>\n",
       "      <td>Male</td>\n",
       "      <td>37</td>\n",
       "    </tr>\n",
       "    <tr>\n",
       "      <th>496</th>\n",
       "      <td>Science</td>\n",
       "      <td>Male</td>\n",
       "      <td>11</td>\n",
       "    </tr>\n",
       "    <tr>\n",
       "      <th>497</th>\n",
       "      <td>Science</td>\n",
       "      <td>Female</td>\n",
       "      <td>6</td>\n",
       "    </tr>\n",
       "    <tr>\n",
       "      <th>498</th>\n",
       "      <td>Business</td>\n",
       "      <td>Male</td>\n",
       "      <td>18</td>\n",
       "    </tr>\n",
       "    <tr>\n",
       "      <th>499</th>\n",
       "      <td>Engineering</td>\n",
       "      <td>Female</td>\n",
       "      <td>21</td>\n",
       "    </tr>\n",
       "  </tbody>\n",
       "</table>\n",
       "<p>500 rows × 3 columns</p>\n",
       "</div>"
      ],
      "text/plain": [
       "           Major  Gender  StudyHoursPerWeek\n",
       "0           Arts    Male                 37\n",
       "1      Education  Female                 37\n",
       "2       Business    Male                 10\n",
       "3        Science    Male                 10\n",
       "4      Education    Male                 19\n",
       "..           ...     ...                ...\n",
       "495      Science    Male                 37\n",
       "496      Science    Male                 11\n",
       "497      Science  Female                  6\n",
       "498     Business    Male                 18\n",
       "499  Engineering  Female                 21\n",
       "\n",
       "[500 rows x 3 columns]"
      ]
     },
     "execution_count": 87,
     "metadata": {},
     "output_type": "execute_result"
    }
   ],
   "source": [
    "# Get the data from the major clumn, the Gender column and the study hours per week column.\n",
    "\n",
    "data_grouped = data[['Major','Gender','StudyHoursPerWeek']]\n",
    "data_grouped"
   ]
  },
  {
   "cell_type": "code",
   "execution_count": 88,
   "id": "d4f6939f",
   "metadata": {
    "scrolled": false
   },
   "outputs": [
    {
     "data": {
      "text/html": [
       "<div>\n",
       "<style scoped>\n",
       "    .dataframe tbody tr th:only-of-type {\n",
       "        vertical-align: middle;\n",
       "    }\n",
       "\n",
       "    .dataframe tbody tr th {\n",
       "        vertical-align: top;\n",
       "    }\n",
       "\n",
       "    .dataframe thead th {\n",
       "        text-align: right;\n",
       "    }\n",
       "</style>\n",
       "<table border=\"1\" class=\"dataframe\">\n",
       "  <thead>\n",
       "    <tr style=\"text-align: right;\">\n",
       "      <th></th>\n",
       "      <th>StudentID</th>\n",
       "      <th>Gender</th>\n",
       "      <th>Age</th>\n",
       "      <th>StudyHoursPerWeek</th>\n",
       "      <th>AttendanceRate</th>\n",
       "      <th>GPA</th>\n",
       "      <th>Major</th>\n",
       "      <th>PartTimeJob</th>\n",
       "      <th>ExtraCurricularActivities</th>\n",
       "    </tr>\n",
       "  </thead>\n",
       "  <tbody>\n",
       "    <tr>\n",
       "      <th>0</th>\n",
       "      <td>1</td>\n",
       "      <td>Male</td>\n",
       "      <td>24</td>\n",
       "      <td>37</td>\n",
       "      <td>90.75</td>\n",
       "      <td>3.47</td>\n",
       "      <td>Arts</td>\n",
       "      <td>Yes</td>\n",
       "      <td>No</td>\n",
       "    </tr>\n",
       "    <tr>\n",
       "      <th>2</th>\n",
       "      <td>3</td>\n",
       "      <td>Male</td>\n",
       "      <td>22</td>\n",
       "      <td>10</td>\n",
       "      <td>53.36</td>\n",
       "      <td>2.38</td>\n",
       "      <td>Business</td>\n",
       "      <td>No</td>\n",
       "      <td>No</td>\n",
       "    </tr>\n",
       "    <tr>\n",
       "      <th>3</th>\n",
       "      <td>4</td>\n",
       "      <td>Male</td>\n",
       "      <td>24</td>\n",
       "      <td>10</td>\n",
       "      <td>70.26</td>\n",
       "      <td>3.46</td>\n",
       "      <td>Science</td>\n",
       "      <td>Yes</td>\n",
       "      <td>No</td>\n",
       "    </tr>\n",
       "    <tr>\n",
       "      <th>4</th>\n",
       "      <td>5</td>\n",
       "      <td>Male</td>\n",
       "      <td>18</td>\n",
       "      <td>19</td>\n",
       "      <td>74.87</td>\n",
       "      <td>2.31</td>\n",
       "      <td>Education</td>\n",
       "      <td>Yes</td>\n",
       "      <td>No</td>\n",
       "    </tr>\n",
       "    <tr>\n",
       "      <th>6</th>\n",
       "      <td>7</td>\n",
       "      <td>Male</td>\n",
       "      <td>19</td>\n",
       "      <td>21</td>\n",
       "      <td>55.33</td>\n",
       "      <td>3.93</td>\n",
       "      <td>Arts</td>\n",
       "      <td>No</td>\n",
       "      <td>No</td>\n",
       "    </tr>\n",
       "    <tr>\n",
       "      <th>...</th>\n",
       "      <td>...</td>\n",
       "      <td>...</td>\n",
       "      <td>...</td>\n",
       "      <td>...</td>\n",
       "      <td>...</td>\n",
       "      <td>...</td>\n",
       "      <td>...</td>\n",
       "      <td>...</td>\n",
       "      <td>...</td>\n",
       "    </tr>\n",
       "    <tr>\n",
       "      <th>492</th>\n",
       "      <td>493</td>\n",
       "      <td>Male</td>\n",
       "      <td>18</td>\n",
       "      <td>29</td>\n",
       "      <td>62.71</td>\n",
       "      <td>2.45</td>\n",
       "      <td>Education</td>\n",
       "      <td>Yes</td>\n",
       "      <td>No</td>\n",
       "    </tr>\n",
       "    <tr>\n",
       "      <th>494</th>\n",
       "      <td>495</td>\n",
       "      <td>Male</td>\n",
       "      <td>24</td>\n",
       "      <td>23</td>\n",
       "      <td>67.13</td>\n",
       "      <td>2.11</td>\n",
       "      <td>Business</td>\n",
       "      <td>No</td>\n",
       "      <td>Yes</td>\n",
       "    </tr>\n",
       "    <tr>\n",
       "      <th>495</th>\n",
       "      <td>496</td>\n",
       "      <td>Male</td>\n",
       "      <td>22</td>\n",
       "      <td>37</td>\n",
       "      <td>76.61</td>\n",
       "      <td>2.97</td>\n",
       "      <td>Science</td>\n",
       "      <td>No</td>\n",
       "      <td>No</td>\n",
       "    </tr>\n",
       "    <tr>\n",
       "      <th>496</th>\n",
       "      <td>497</td>\n",
       "      <td>Male</td>\n",
       "      <td>23</td>\n",
       "      <td>11</td>\n",
       "      <td>56.29</td>\n",
       "      <td>3.20</td>\n",
       "      <td>Science</td>\n",
       "      <td>No</td>\n",
       "      <td>No</td>\n",
       "    </tr>\n",
       "    <tr>\n",
       "      <th>498</th>\n",
       "      <td>499</td>\n",
       "      <td>Male</td>\n",
       "      <td>22</td>\n",
       "      <td>18</td>\n",
       "      <td>57.18</td>\n",
       "      <td>2.05</td>\n",
       "      <td>Business</td>\n",
       "      <td>No</td>\n",
       "      <td>Yes</td>\n",
       "    </tr>\n",
       "  </tbody>\n",
       "</table>\n",
       "<p>244 rows × 9 columns</p>\n",
       "</div>"
      ],
      "text/plain": [
       "     StudentID Gender  Age  StudyHoursPerWeek  AttendanceRate   GPA  \\\n",
       "0            1   Male   24                 37           90.75  3.47   \n",
       "2            3   Male   22                 10           53.36  2.38   \n",
       "3            4   Male   24                 10           70.26  3.46   \n",
       "4            5   Male   18                 19           74.87  2.31   \n",
       "6            7   Male   19                 21           55.33  3.93   \n",
       "..         ...    ...  ...                ...             ...   ...   \n",
       "492        493   Male   18                 29           62.71  2.45   \n",
       "494        495   Male   24                 23           67.13  2.11   \n",
       "495        496   Male   22                 37           76.61  2.97   \n",
       "496        497   Male   23                 11           56.29  3.20   \n",
       "498        499   Male   22                 18           57.18  2.05   \n",
       "\n",
       "         Major PartTimeJob ExtraCurricularActivities  \n",
       "0         Arts         Yes                        No  \n",
       "2     Business          No                        No  \n",
       "3      Science         Yes                        No  \n",
       "4    Education         Yes                        No  \n",
       "6         Arts          No                        No  \n",
       "..         ...         ...                       ...  \n",
       "492  Education         Yes                        No  \n",
       "494   Business          No                       Yes  \n",
       "495    Science          No                        No  \n",
       "496    Science          No                        No  \n",
       "498   Business          No                       Yes  \n",
       "\n",
       "[244 rows x 9 columns]"
      ]
     },
     "execution_count": 88,
     "metadata": {},
     "output_type": "execute_result"
    }
   ],
   "source": [
    "# Getting the major whose gender is male only because we are dealing with the male major alone first\n",
    "males = data[data['Gender']== 'Male']\n",
    "males\n",
    "                               "
   ]
  },
  {
   "cell_type": "code",
   "execution_count": 89,
   "id": "7e78955f",
   "metadata": {},
   "outputs": [
    {
     "data": {
      "text/plain": [
       "35"
      ]
     },
     "execution_count": 89,
     "metadata": {},
     "output_type": "execute_result"
    }
   ],
   "source": [
    "# Getting the male major with the highest study hours per week. We use .idmax() so that it outputs the index\n",
    "# of the male major with the highest atudy hours per week\n",
    "male_major_highest_total_hours_per_week = males['StudyHoursPerWeek'].idxmax()\n",
    "male_major_highest_total_hours_per_week\n",
    "\n",
    "# This returns the male major with the highest study hours per week and he is at index  35"
   ]
  },
  {
   "cell_type": "code",
   "execution_count": 90,
   "id": "3dfcedd5",
   "metadata": {},
   "outputs": [
    {
     "data": {
      "text/html": [
       "<div>\n",
       "<style scoped>\n",
       "    .dataframe tbody tr th:only-of-type {\n",
       "        vertical-align: middle;\n",
       "    }\n",
       "\n",
       "    .dataframe tbody tr th {\n",
       "        vertical-align: top;\n",
       "    }\n",
       "\n",
       "    .dataframe thead th {\n",
       "        text-align: right;\n",
       "    }\n",
       "</style>\n",
       "<table border=\"1\" class=\"dataframe\">\n",
       "  <thead>\n",
       "    <tr style=\"text-align: right;\">\n",
       "      <th></th>\n",
       "      <th>StudentID</th>\n",
       "      <th>Gender</th>\n",
       "      <th>Age</th>\n",
       "      <th>StudyHoursPerWeek</th>\n",
       "      <th>AttendanceRate</th>\n",
       "      <th>GPA</th>\n",
       "      <th>Major</th>\n",
       "      <th>PartTimeJob</th>\n",
       "      <th>ExtraCurricularActivities</th>\n",
       "    </tr>\n",
       "  </thead>\n",
       "  <tbody>\n",
       "    <tr>\n",
       "      <th>1</th>\n",
       "      <td>2</td>\n",
       "      <td>Female</td>\n",
       "      <td>22</td>\n",
       "      <td>37</td>\n",
       "      <td>74.90</td>\n",
       "      <td>2.32</td>\n",
       "      <td>Education</td>\n",
       "      <td>No</td>\n",
       "      <td>No</td>\n",
       "    </tr>\n",
       "    <tr>\n",
       "      <th>5</th>\n",
       "      <td>6</td>\n",
       "      <td>Female</td>\n",
       "      <td>20</td>\n",
       "      <td>17</td>\n",
       "      <td>86.01</td>\n",
       "      <td>2.47</td>\n",
       "      <td>Business</td>\n",
       "      <td>Yes</td>\n",
       "      <td>No</td>\n",
       "    </tr>\n",
       "    <tr>\n",
       "      <th>9</th>\n",
       "      <td>10</td>\n",
       "      <td>Female</td>\n",
       "      <td>24</td>\n",
       "      <td>1</td>\n",
       "      <td>63.32</td>\n",
       "      <td>3.96</td>\n",
       "      <td>Engineering</td>\n",
       "      <td>Yes</td>\n",
       "      <td>Yes</td>\n",
       "    </tr>\n",
       "    <tr>\n",
       "      <th>14</th>\n",
       "      <td>15</td>\n",
       "      <td>Female</td>\n",
       "      <td>19</td>\n",
       "      <td>34</td>\n",
       "      <td>78.66</td>\n",
       "      <td>3.73</td>\n",
       "      <td>Arts</td>\n",
       "      <td>Yes</td>\n",
       "      <td>Yes</td>\n",
       "    </tr>\n",
       "    <tr>\n",
       "      <th>16</th>\n",
       "      <td>17</td>\n",
       "      <td>Female</td>\n",
       "      <td>23</td>\n",
       "      <td>31</td>\n",
       "      <td>70.22</td>\n",
       "      <td>2.23</td>\n",
       "      <td>Arts</td>\n",
       "      <td>Yes</td>\n",
       "      <td>Yes</td>\n",
       "    </tr>\n",
       "    <tr>\n",
       "      <th>...</th>\n",
       "      <td>...</td>\n",
       "      <td>...</td>\n",
       "      <td>...</td>\n",
       "      <td>...</td>\n",
       "      <td>...</td>\n",
       "      <td>...</td>\n",
       "      <td>...</td>\n",
       "      <td>...</td>\n",
       "      <td>...</td>\n",
       "    </tr>\n",
       "    <tr>\n",
       "      <th>487</th>\n",
       "      <td>488</td>\n",
       "      <td>Female</td>\n",
       "      <td>18</td>\n",
       "      <td>39</td>\n",
       "      <td>84.30</td>\n",
       "      <td>2.80</td>\n",
       "      <td>Business</td>\n",
       "      <td>Yes</td>\n",
       "      <td>Yes</td>\n",
       "    </tr>\n",
       "    <tr>\n",
       "      <th>490</th>\n",
       "      <td>491</td>\n",
       "      <td>Female</td>\n",
       "      <td>23</td>\n",
       "      <td>4</td>\n",
       "      <td>98.65</td>\n",
       "      <td>3.45</td>\n",
       "      <td>Engineering</td>\n",
       "      <td>Yes</td>\n",
       "      <td>Yes</td>\n",
       "    </tr>\n",
       "    <tr>\n",
       "      <th>493</th>\n",
       "      <td>494</td>\n",
       "      <td>Female</td>\n",
       "      <td>22</td>\n",
       "      <td>34</td>\n",
       "      <td>76.09</td>\n",
       "      <td>3.41</td>\n",
       "      <td>Engineering</td>\n",
       "      <td>No</td>\n",
       "      <td>No</td>\n",
       "    </tr>\n",
       "    <tr>\n",
       "      <th>497</th>\n",
       "      <td>498</td>\n",
       "      <td>Female</td>\n",
       "      <td>20</td>\n",
       "      <td>6</td>\n",
       "      <td>56.64</td>\n",
       "      <td>3.20</td>\n",
       "      <td>Science</td>\n",
       "      <td>No</td>\n",
       "      <td>Yes</td>\n",
       "    </tr>\n",
       "    <tr>\n",
       "      <th>499</th>\n",
       "      <td>500</td>\n",
       "      <td>Female</td>\n",
       "      <td>24</td>\n",
       "      <td>21</td>\n",
       "      <td>96.99</td>\n",
       "      <td>2.64</td>\n",
       "      <td>Engineering</td>\n",
       "      <td>No</td>\n",
       "      <td>No</td>\n",
       "    </tr>\n",
       "  </tbody>\n",
       "</table>\n",
       "<p>256 rows × 9 columns</p>\n",
       "</div>"
      ],
      "text/plain": [
       "     StudentID  Gender  Age  StudyHoursPerWeek  AttendanceRate   GPA  \\\n",
       "1            2  Female   22                 37           74.90  2.32   \n",
       "5            6  Female   20                 17           86.01  2.47   \n",
       "9           10  Female   24                  1           63.32  3.96   \n",
       "14          15  Female   19                 34           78.66  3.73   \n",
       "16          17  Female   23                 31           70.22  2.23   \n",
       "..         ...     ...  ...                ...             ...   ...   \n",
       "487        488  Female   18                 39           84.30  2.80   \n",
       "490        491  Female   23                  4           98.65  3.45   \n",
       "493        494  Female   22                 34           76.09  3.41   \n",
       "497        498  Female   20                  6           56.64  3.20   \n",
       "499        500  Female   24                 21           96.99  2.64   \n",
       "\n",
       "           Major PartTimeJob ExtraCurricularActivities  \n",
       "1      Education          No                        No  \n",
       "5       Business         Yes                        No  \n",
       "9    Engineering         Yes                       Yes  \n",
       "14          Arts         Yes                       Yes  \n",
       "16          Arts         Yes                       Yes  \n",
       "..           ...         ...                       ...  \n",
       "487     Business         Yes                       Yes  \n",
       "490  Engineering         Yes                       Yes  \n",
       "493  Engineering          No                        No  \n",
       "497      Science          No                       Yes  \n",
       "499  Engineering          No                        No  \n",
       "\n",
       "[256 rows x 9 columns]"
      ]
     },
     "execution_count": 90,
     "metadata": {},
     "output_type": "execute_result"
    }
   ],
   "source": [
    "# Getting the major whose gender is female only because we are dealing with the female major alone \n",
    "females = data[data['Gender']== 'Female']\n",
    "females"
   ]
  },
  {
   "cell_type": "code",
   "execution_count": 91,
   "id": "99360c03",
   "metadata": {},
   "outputs": [
    {
     "data": {
      "text/plain": [
       "18"
      ]
     },
     "execution_count": 91,
     "metadata": {},
     "output_type": "execute_result"
    }
   ],
   "source": [
    "# Getting the female major with the highest study hours per week. We use .idmax() so that it outputs the index\n",
    "# of the female major with the highest atudy hours per week\n",
    "female_major_highest_total_hours_per_week = females['StudyHoursPerWeek'].idxmax()\n",
    "female_major_highest_total_hours_per_week\n",
    "\n",
    "# This returns the female major with the highest study hours per week and it is 18"
   ]
  },
  {
   "cell_type": "markdown",
   "id": "df1ad1a3",
   "metadata": {},
   "source": [
    "# (b) Which gender has the highest overall average attendance rate? Return the gender and the average attendance rate? (3 marks)"
   ]
  },
  {
   "cell_type": "code",
   "execution_count": 92,
   "id": "fd2f261e",
   "metadata": {},
   "outputs": [
    {
     "data": {
      "text/html": [
       "<div>\n",
       "<style scoped>\n",
       "    .dataframe tbody tr th:only-of-type {\n",
       "        vertical-align: middle;\n",
       "    }\n",
       "\n",
       "    .dataframe tbody tr th {\n",
       "        vertical-align: top;\n",
       "    }\n",
       "\n",
       "    .dataframe thead th {\n",
       "        text-align: right;\n",
       "    }\n",
       "</style>\n",
       "<table border=\"1\" class=\"dataframe\">\n",
       "  <thead>\n",
       "    <tr style=\"text-align: right;\">\n",
       "      <th></th>\n",
       "      <th>Gender</th>\n",
       "      <th>AttendanceRate</th>\n",
       "    </tr>\n",
       "  </thead>\n",
       "  <tbody>\n",
       "    <tr>\n",
       "      <th>0</th>\n",
       "      <td>Male</td>\n",
       "      <td>90.75</td>\n",
       "    </tr>\n",
       "    <tr>\n",
       "      <th>1</th>\n",
       "      <td>Female</td>\n",
       "      <td>74.90</td>\n",
       "    </tr>\n",
       "    <tr>\n",
       "      <th>2</th>\n",
       "      <td>Male</td>\n",
       "      <td>53.36</td>\n",
       "    </tr>\n",
       "    <tr>\n",
       "      <th>3</th>\n",
       "      <td>Male</td>\n",
       "      <td>70.26</td>\n",
       "    </tr>\n",
       "    <tr>\n",
       "      <th>4</th>\n",
       "      <td>Male</td>\n",
       "      <td>74.87</td>\n",
       "    </tr>\n",
       "    <tr>\n",
       "      <th>...</th>\n",
       "      <td>...</td>\n",
       "      <td>...</td>\n",
       "    </tr>\n",
       "    <tr>\n",
       "      <th>495</th>\n",
       "      <td>Male</td>\n",
       "      <td>76.61</td>\n",
       "    </tr>\n",
       "    <tr>\n",
       "      <th>496</th>\n",
       "      <td>Male</td>\n",
       "      <td>56.29</td>\n",
       "    </tr>\n",
       "    <tr>\n",
       "      <th>497</th>\n",
       "      <td>Female</td>\n",
       "      <td>56.64</td>\n",
       "    </tr>\n",
       "    <tr>\n",
       "      <th>498</th>\n",
       "      <td>Male</td>\n",
       "      <td>57.18</td>\n",
       "    </tr>\n",
       "    <tr>\n",
       "      <th>499</th>\n",
       "      <td>Female</td>\n",
       "      <td>96.99</td>\n",
       "    </tr>\n",
       "  </tbody>\n",
       "</table>\n",
       "<p>500 rows × 2 columns</p>\n",
       "</div>"
      ],
      "text/plain": [
       "     Gender  AttendanceRate\n",
       "0      Male           90.75\n",
       "1    Female           74.90\n",
       "2      Male           53.36\n",
       "3      Male           70.26\n",
       "4      Male           74.87\n",
       "..      ...             ...\n",
       "495    Male           76.61\n",
       "496    Male           56.29\n",
       "497  Female           56.64\n",
       "498    Male           57.18\n",
       "499  Female           96.99\n",
       "\n",
       "[500 rows x 2 columns]"
      ]
     },
     "execution_count": 92,
     "metadata": {},
     "output_type": "execute_result"
    }
   ],
   "source": [
    "# Get the data from  the Gender column and the attendance rate column.\n",
    "\n",
    "data_grouped = data[['Gender','AttendanceRate']]\n",
    "data_grouped"
   ]
  },
  {
   "cell_type": "code",
   "execution_count": 93,
   "id": "28c04d8f",
   "metadata": {},
   "outputs": [
    {
     "data": {
      "text/plain": [
       "Gender\n",
       "Female    75.925742\n",
       "Male      74.009016\n",
       "Name: AttendanceRate, dtype: float64"
      ]
     },
     "execution_count": 93,
     "metadata": {},
     "output_type": "execute_result"
    }
   ],
   "source": [
    "# Here we group our data in terms of gender and attendance rate. \n",
    "# And then we find the average of the atendance rate for all genders like this.\n",
    "highest_attendance= data.groupby('Gender')['AttendanceRate'].mean()\n",
    "highest_attendance\n",
    "\n",
    "# This returns the gender value as well as the average attendance rate."
   ]
  },
  {
   "cell_type": "code",
   "execution_count": 94,
   "id": "ae73ac31",
   "metadata": {},
   "outputs": [],
   "source": [
    "# Therefore we conclude that the gender with the highest overall attendance rate is Females \n",
    "# This is because it has a higher mean than males."
   ]
  },
  {
   "cell_type": "markdown",
   "id": "e371f067",
   "metadata": {},
   "source": [
    "# (c) What percentage of students have part-time jobs, and what percentage have no part-time jobs? (5 marks)"
   ]
  },
  {
   "cell_type": "code",
   "execution_count": 95,
   "id": "317c1b15",
   "metadata": {},
   "outputs": [
    {
     "data": {
      "text/plain": [
       "StudentID  Gender  Age  StudyHoursPerWeek  AttendanceRate  GPA   Major        PartTimeJob  ExtraCurricularActivities\n",
       "1          Male    24   37                 90.75           3.47  Arts         Yes          No                           0.373134\n",
       "339        Female  21   14                 55.14           3.62  Arts         Yes          No                           0.373134\n",
       "319        Male    18   6                  61.28           2.09  Science      Yes          No                           0.373134\n",
       "320        Female  22   8                  58.04           2.74  Arts         Yes          Yes                          0.373134\n",
       "322        Male    24   26                 66.30           3.29  Arts         Yes          Yes                          0.373134\n",
       "                                                                                                                          ...   \n",
       "181        Male    19   30                 63.65           3.99  Business     Yes          Yes                          0.373134\n",
       "182        Male    18   38                 73.83           2.89  Engineering  Yes          Yes                          0.373134\n",
       "185        Male    21   11                 51.77           2.18  Arts         Yes          No                           0.373134\n",
       "186        Male    21   8                  66.45           3.92  Business     Yes          No                           0.373134\n",
       "493        Male    18   29                 62.71           2.45  Education    Yes          No                           0.373134\n",
       "Length: 268, dtype: float64"
      ]
     },
     "execution_count": 95,
     "metadata": {},
     "output_type": "execute_result"
    }
   ],
   "source": [
    "# Here first we calculate the percentage og the students that have parttime jobs.\n",
    "# We do this by locating the students that have n parttime jobs alone and we use value_counts in order to return normal values.\n",
    "\n",
    "students_part_time_jobs = data[data['PartTimeJob']=='Yes'].value_counts(normalize = True) * 100\n",
    "students_part_time_jobs\n",
    "\n",
    "# This returns the percentage of students that have pat time jobs."
   ]
  },
  {
   "cell_type": "code",
   "execution_count": 96,
   "id": "877bb4fd",
   "metadata": {},
   "outputs": [
    {
     "data": {
      "text/plain": [
       "StudentID  Gender  Age  StudyHoursPerWeek  AttendanceRate  GPA   Major        PartTimeJob  ExtraCurricularActivities\n",
       "2          Female  22   37                 74.90           2.32  Education    No           No                           0.431034\n",
       "357        Female  19   25                 91.07           2.08  Engineering  No           No                           0.431034\n",
       "318        Male    21   38                 77.92           2.13  Education    No           Yes                          0.431034\n",
       "321        Female  23   23                 82.58           2.53  Engineering  No           Yes                          0.431034\n",
       "325        Female  19   13                 99.22           2.30  Arts         No           Yes                          0.431034\n",
       "                                                                                                                          ...   \n",
       "171        Female  24   24                 99.82           3.28  Arts         No           Yes                          0.431034\n",
       "172        Male    19   31                 94.87           2.54  Education    No           No                           0.431034\n",
       "177        Male    22   11                 94.75           2.38  Engineering  No           No                           0.431034\n",
       "178        Male    22   4                  93.01           2.10  Science      No           Yes                          0.431034\n",
       "500        Female  24   21                 96.99           2.64  Engineering  No           No                           0.431034\n",
       "Length: 232, dtype: float64"
      ]
     },
     "execution_count": 96,
     "metadata": {},
     "output_type": "execute_result"
    }
   ],
   "source": [
    "# We now calculate the pecentage of students that have no parttime jobs by like this below.\n",
    "# We do this by locating the students that have no parttime jobs alone and we use value_counts in order to return normal values.\n",
    "students_no_part_time_jobs = data[data['PartTimeJob']=='No'].value_counts(normalize = True) * 100\n",
    "students_no_part_time_jobs\n",
    "\n",
    "# This returns the percentage of students that dont have pat time jobs."
   ]
  },
  {
   "cell_type": "code",
   "execution_count": null,
   "id": "91c5d858",
   "metadata": {},
   "outputs": [],
   "source": []
  },
  {
   "cell_type": "markdown",
   "id": "1cd1133a",
   "metadata": {},
   "source": [
    "# (d) For each gender, what is the mean GPA and variance of age? (5 marks)"
   ]
  },
  {
   "cell_type": "code",
   "execution_count": 97,
   "id": "5bf226ec",
   "metadata": {},
   "outputs": [
    {
     "data": {
      "text/html": [
       "<div>\n",
       "<style scoped>\n",
       "    .dataframe tbody tr th:only-of-type {\n",
       "        vertical-align: middle;\n",
       "    }\n",
       "\n",
       "    .dataframe tbody tr th {\n",
       "        vertical-align: top;\n",
       "    }\n",
       "\n",
       "    .dataframe thead th {\n",
       "        text-align: right;\n",
       "    }\n",
       "</style>\n",
       "<table border=\"1\" class=\"dataframe\">\n",
       "  <thead>\n",
       "    <tr style=\"text-align: right;\">\n",
       "      <th></th>\n",
       "      <th>StudentID</th>\n",
       "      <th>Gender</th>\n",
       "      <th>Age</th>\n",
       "      <th>StudyHoursPerWeek</th>\n",
       "      <th>AttendanceRate</th>\n",
       "      <th>GPA</th>\n",
       "      <th>Major</th>\n",
       "      <th>PartTimeJob</th>\n",
       "      <th>ExtraCurricularActivities</th>\n",
       "    </tr>\n",
       "  </thead>\n",
       "  <tbody>\n",
       "    <tr>\n",
       "      <th>1</th>\n",
       "      <td>2</td>\n",
       "      <td>Female</td>\n",
       "      <td>22</td>\n",
       "      <td>37</td>\n",
       "      <td>74.90</td>\n",
       "      <td>2.32</td>\n",
       "      <td>Education</td>\n",
       "      <td>No</td>\n",
       "      <td>No</td>\n",
       "    </tr>\n",
       "    <tr>\n",
       "      <th>5</th>\n",
       "      <td>6</td>\n",
       "      <td>Female</td>\n",
       "      <td>20</td>\n",
       "      <td>17</td>\n",
       "      <td>86.01</td>\n",
       "      <td>2.47</td>\n",
       "      <td>Business</td>\n",
       "      <td>Yes</td>\n",
       "      <td>No</td>\n",
       "    </tr>\n",
       "    <tr>\n",
       "      <th>9</th>\n",
       "      <td>10</td>\n",
       "      <td>Female</td>\n",
       "      <td>24</td>\n",
       "      <td>1</td>\n",
       "      <td>63.32</td>\n",
       "      <td>3.96</td>\n",
       "      <td>Engineering</td>\n",
       "      <td>Yes</td>\n",
       "      <td>Yes</td>\n",
       "    </tr>\n",
       "    <tr>\n",
       "      <th>14</th>\n",
       "      <td>15</td>\n",
       "      <td>Female</td>\n",
       "      <td>19</td>\n",
       "      <td>34</td>\n",
       "      <td>78.66</td>\n",
       "      <td>3.73</td>\n",
       "      <td>Arts</td>\n",
       "      <td>Yes</td>\n",
       "      <td>Yes</td>\n",
       "    </tr>\n",
       "    <tr>\n",
       "      <th>16</th>\n",
       "      <td>17</td>\n",
       "      <td>Female</td>\n",
       "      <td>23</td>\n",
       "      <td>31</td>\n",
       "      <td>70.22</td>\n",
       "      <td>2.23</td>\n",
       "      <td>Arts</td>\n",
       "      <td>Yes</td>\n",
       "      <td>Yes</td>\n",
       "    </tr>\n",
       "    <tr>\n",
       "      <th>...</th>\n",
       "      <td>...</td>\n",
       "      <td>...</td>\n",
       "      <td>...</td>\n",
       "      <td>...</td>\n",
       "      <td>...</td>\n",
       "      <td>...</td>\n",
       "      <td>...</td>\n",
       "      <td>...</td>\n",
       "      <td>...</td>\n",
       "    </tr>\n",
       "    <tr>\n",
       "      <th>487</th>\n",
       "      <td>488</td>\n",
       "      <td>Female</td>\n",
       "      <td>18</td>\n",
       "      <td>39</td>\n",
       "      <td>84.30</td>\n",
       "      <td>2.80</td>\n",
       "      <td>Business</td>\n",
       "      <td>Yes</td>\n",
       "      <td>Yes</td>\n",
       "    </tr>\n",
       "    <tr>\n",
       "      <th>490</th>\n",
       "      <td>491</td>\n",
       "      <td>Female</td>\n",
       "      <td>23</td>\n",
       "      <td>4</td>\n",
       "      <td>98.65</td>\n",
       "      <td>3.45</td>\n",
       "      <td>Engineering</td>\n",
       "      <td>Yes</td>\n",
       "      <td>Yes</td>\n",
       "    </tr>\n",
       "    <tr>\n",
       "      <th>493</th>\n",
       "      <td>494</td>\n",
       "      <td>Female</td>\n",
       "      <td>22</td>\n",
       "      <td>34</td>\n",
       "      <td>76.09</td>\n",
       "      <td>3.41</td>\n",
       "      <td>Engineering</td>\n",
       "      <td>No</td>\n",
       "      <td>No</td>\n",
       "    </tr>\n",
       "    <tr>\n",
       "      <th>497</th>\n",
       "      <td>498</td>\n",
       "      <td>Female</td>\n",
       "      <td>20</td>\n",
       "      <td>6</td>\n",
       "      <td>56.64</td>\n",
       "      <td>3.20</td>\n",
       "      <td>Science</td>\n",
       "      <td>No</td>\n",
       "      <td>Yes</td>\n",
       "    </tr>\n",
       "    <tr>\n",
       "      <th>499</th>\n",
       "      <td>500</td>\n",
       "      <td>Female</td>\n",
       "      <td>24</td>\n",
       "      <td>21</td>\n",
       "      <td>96.99</td>\n",
       "      <td>2.64</td>\n",
       "      <td>Engineering</td>\n",
       "      <td>No</td>\n",
       "      <td>No</td>\n",
       "    </tr>\n",
       "  </tbody>\n",
       "</table>\n",
       "<p>256 rows × 9 columns</p>\n",
       "</div>"
      ],
      "text/plain": [
       "     StudentID  Gender  Age  StudyHoursPerWeek  AttendanceRate   GPA  \\\n",
       "1            2  Female   22                 37           74.90  2.32   \n",
       "5            6  Female   20                 17           86.01  2.47   \n",
       "9           10  Female   24                  1           63.32  3.96   \n",
       "14          15  Female   19                 34           78.66  3.73   \n",
       "16          17  Female   23                 31           70.22  2.23   \n",
       "..         ...     ...  ...                ...             ...   ...   \n",
       "487        488  Female   18                 39           84.30  2.80   \n",
       "490        491  Female   23                  4           98.65  3.45   \n",
       "493        494  Female   22                 34           76.09  3.41   \n",
       "497        498  Female   20                  6           56.64  3.20   \n",
       "499        500  Female   24                 21           96.99  2.64   \n",
       "\n",
       "           Major PartTimeJob ExtraCurricularActivities  \n",
       "1      Education          No                        No  \n",
       "5       Business         Yes                        No  \n",
       "9    Engineering         Yes                       Yes  \n",
       "14          Arts         Yes                       Yes  \n",
       "16          Arts         Yes                       Yes  \n",
       "..           ...         ...                       ...  \n",
       "487     Business         Yes                       Yes  \n",
       "490  Engineering         Yes                       Yes  \n",
       "493  Engineering          No                        No  \n",
       "497      Science          No                       Yes  \n",
       "499  Engineering          No                        No  \n",
       "\n",
       "[256 rows x 9 columns]"
      ]
     },
     "execution_count": 97,
     "metadata": {},
     "output_type": "execute_result"
    }
   ],
   "source": [
    "# Here we first get the meanGPA and variance of the female gender\n",
    "female = data[data['Gender']=='Female']\n",
    "female"
   ]
  },
  {
   "cell_type": "code",
   "execution_count": 98,
   "id": "8da9925c",
   "metadata": {},
   "outputs": [
    {
     "data": {
      "text/plain": [
       "2.9953515625"
      ]
     },
     "execution_count": 98,
     "metadata": {},
     "output_type": "execute_result"
    }
   ],
   "source": [
    "# We are finding the mean of the GPA for the female gender alone first\n",
    "female_mean = female['GPA'].mean()\n",
    "female_mean"
   ]
  },
  {
   "cell_type": "code",
   "execution_count": 99,
   "id": "317dd26a",
   "metadata": {},
   "outputs": [
    {
     "data": {
      "text/plain": [
       "0.30849948376225467"
      ]
     },
     "execution_count": 99,
     "metadata": {},
     "output_type": "execute_result"
    }
   ],
   "source": [
    "# We are finding the variance of the GPA for the female gender alone first\n",
    "female_variance = female['GPA'].var()\n",
    "female_variance"
   ]
  },
  {
   "cell_type": "code",
   "execution_count": 100,
   "id": "916ae596",
   "metadata": {},
   "outputs": [
    {
     "data": {
      "text/html": [
       "<div>\n",
       "<style scoped>\n",
       "    .dataframe tbody tr th:only-of-type {\n",
       "        vertical-align: middle;\n",
       "    }\n",
       "\n",
       "    .dataframe tbody tr th {\n",
       "        vertical-align: top;\n",
       "    }\n",
       "\n",
       "    .dataframe thead th {\n",
       "        text-align: right;\n",
       "    }\n",
       "</style>\n",
       "<table border=\"1\" class=\"dataframe\">\n",
       "  <thead>\n",
       "    <tr style=\"text-align: right;\">\n",
       "      <th></th>\n",
       "      <th>StudentID</th>\n",
       "      <th>Gender</th>\n",
       "      <th>Age</th>\n",
       "      <th>StudyHoursPerWeek</th>\n",
       "      <th>AttendanceRate</th>\n",
       "      <th>GPA</th>\n",
       "      <th>Major</th>\n",
       "      <th>PartTimeJob</th>\n",
       "      <th>ExtraCurricularActivities</th>\n",
       "    </tr>\n",
       "  </thead>\n",
       "  <tbody>\n",
       "    <tr>\n",
       "      <th>0</th>\n",
       "      <td>1</td>\n",
       "      <td>Male</td>\n",
       "      <td>24</td>\n",
       "      <td>37</td>\n",
       "      <td>90.75</td>\n",
       "      <td>3.47</td>\n",
       "      <td>Arts</td>\n",
       "      <td>Yes</td>\n",
       "      <td>No</td>\n",
       "    </tr>\n",
       "    <tr>\n",
       "      <th>2</th>\n",
       "      <td>3</td>\n",
       "      <td>Male</td>\n",
       "      <td>22</td>\n",
       "      <td>10</td>\n",
       "      <td>53.36</td>\n",
       "      <td>2.38</td>\n",
       "      <td>Business</td>\n",
       "      <td>No</td>\n",
       "      <td>No</td>\n",
       "    </tr>\n",
       "    <tr>\n",
       "      <th>3</th>\n",
       "      <td>4</td>\n",
       "      <td>Male</td>\n",
       "      <td>24</td>\n",
       "      <td>10</td>\n",
       "      <td>70.26</td>\n",
       "      <td>3.46</td>\n",
       "      <td>Science</td>\n",
       "      <td>Yes</td>\n",
       "      <td>No</td>\n",
       "    </tr>\n",
       "    <tr>\n",
       "      <th>4</th>\n",
       "      <td>5</td>\n",
       "      <td>Male</td>\n",
       "      <td>18</td>\n",
       "      <td>19</td>\n",
       "      <td>74.87</td>\n",
       "      <td>2.31</td>\n",
       "      <td>Education</td>\n",
       "      <td>Yes</td>\n",
       "      <td>No</td>\n",
       "    </tr>\n",
       "    <tr>\n",
       "      <th>6</th>\n",
       "      <td>7</td>\n",
       "      <td>Male</td>\n",
       "      <td>19</td>\n",
       "      <td>21</td>\n",
       "      <td>55.33</td>\n",
       "      <td>3.93</td>\n",
       "      <td>Arts</td>\n",
       "      <td>No</td>\n",
       "      <td>No</td>\n",
       "    </tr>\n",
       "    <tr>\n",
       "      <th>...</th>\n",
       "      <td>...</td>\n",
       "      <td>...</td>\n",
       "      <td>...</td>\n",
       "      <td>...</td>\n",
       "      <td>...</td>\n",
       "      <td>...</td>\n",
       "      <td>...</td>\n",
       "      <td>...</td>\n",
       "      <td>...</td>\n",
       "    </tr>\n",
       "    <tr>\n",
       "      <th>492</th>\n",
       "      <td>493</td>\n",
       "      <td>Male</td>\n",
       "      <td>18</td>\n",
       "      <td>29</td>\n",
       "      <td>62.71</td>\n",
       "      <td>2.45</td>\n",
       "      <td>Education</td>\n",
       "      <td>Yes</td>\n",
       "      <td>No</td>\n",
       "    </tr>\n",
       "    <tr>\n",
       "      <th>494</th>\n",
       "      <td>495</td>\n",
       "      <td>Male</td>\n",
       "      <td>24</td>\n",
       "      <td>23</td>\n",
       "      <td>67.13</td>\n",
       "      <td>2.11</td>\n",
       "      <td>Business</td>\n",
       "      <td>No</td>\n",
       "      <td>Yes</td>\n",
       "    </tr>\n",
       "    <tr>\n",
       "      <th>495</th>\n",
       "      <td>496</td>\n",
       "      <td>Male</td>\n",
       "      <td>22</td>\n",
       "      <td>37</td>\n",
       "      <td>76.61</td>\n",
       "      <td>2.97</td>\n",
       "      <td>Science</td>\n",
       "      <td>No</td>\n",
       "      <td>No</td>\n",
       "    </tr>\n",
       "    <tr>\n",
       "      <th>496</th>\n",
       "      <td>497</td>\n",
       "      <td>Male</td>\n",
       "      <td>23</td>\n",
       "      <td>11</td>\n",
       "      <td>56.29</td>\n",
       "      <td>3.20</td>\n",
       "      <td>Science</td>\n",
       "      <td>No</td>\n",
       "      <td>No</td>\n",
       "    </tr>\n",
       "    <tr>\n",
       "      <th>498</th>\n",
       "      <td>499</td>\n",
       "      <td>Male</td>\n",
       "      <td>22</td>\n",
       "      <td>18</td>\n",
       "      <td>57.18</td>\n",
       "      <td>2.05</td>\n",
       "      <td>Business</td>\n",
       "      <td>No</td>\n",
       "      <td>Yes</td>\n",
       "    </tr>\n",
       "  </tbody>\n",
       "</table>\n",
       "<p>244 rows × 9 columns</p>\n",
       "</div>"
      ],
      "text/plain": [
       "     StudentID Gender  Age  StudyHoursPerWeek  AttendanceRate   GPA  \\\n",
       "0            1   Male   24                 37           90.75  3.47   \n",
       "2            3   Male   22                 10           53.36  2.38   \n",
       "3            4   Male   24                 10           70.26  3.46   \n",
       "4            5   Male   18                 19           74.87  2.31   \n",
       "6            7   Male   19                 21           55.33  3.93   \n",
       "..         ...    ...  ...                ...             ...   ...   \n",
       "492        493   Male   18                 29           62.71  2.45   \n",
       "494        495   Male   24                 23           67.13  2.11   \n",
       "495        496   Male   22                 37           76.61  2.97   \n",
       "496        497   Male   23                 11           56.29  3.20   \n",
       "498        499   Male   22                 18           57.18  2.05   \n",
       "\n",
       "         Major PartTimeJob ExtraCurricularActivities  \n",
       "0         Arts         Yes                        No  \n",
       "2     Business          No                        No  \n",
       "3      Science         Yes                        No  \n",
       "4    Education         Yes                        No  \n",
       "6         Arts          No                        No  \n",
       "..         ...         ...                       ...  \n",
       "492  Education         Yes                        No  \n",
       "494   Business          No                       Yes  \n",
       "495    Science          No                        No  \n",
       "496    Science          No                        No  \n",
       "498   Business          No                       Yes  \n",
       "\n",
       "[244 rows x 9 columns]"
      ]
     },
     "execution_count": 100,
     "metadata": {},
     "output_type": "execute_result"
    }
   ],
   "source": [
    "# Here we also get the meanGPA and variance of the male gender\n",
    "male = data[data['Gender']=='Male']\n",
    "male"
   ]
  },
  {
   "cell_type": "code",
   "execution_count": 101,
   "id": "1561a056",
   "metadata": {},
   "outputs": [
    {
     "data": {
      "text/plain": [
       "2.9744672131147545"
      ]
     },
     "execution_count": 101,
     "metadata": {},
     "output_type": "execute_result"
    }
   ],
   "source": [
    "# We are finding the mean of the GPA for the male gender alone first\n",
    "male_mean = male['GPA'].mean()\n",
    "male_mean"
   ]
  },
  {
   "cell_type": "code",
   "execution_count": 102,
   "id": "99ba9535",
   "metadata": {},
   "outputs": [
    {
     "data": {
      "text/plain": [
       "0.32837214295351813"
      ]
     },
     "execution_count": 102,
     "metadata": {},
     "output_type": "execute_result"
    }
   ],
   "source": [
    "# We are finding the variance of the GPA for the male gender alone first\n",
    "male_variance = male['GPA'].var()\n",
    "male_variance"
   ]
  },
  {
   "cell_type": "code",
   "execution_count": null,
   "id": "98279bdd",
   "metadata": {},
   "outputs": [],
   "source": []
  },
  {
   "cell_type": "markdown",
   "id": "b19ae6b1",
   "metadata": {},
   "source": [
    "# (e) Create a visualization that effectively shows if there is a relationship between any two variables of your choice. Your answer must be given in a single pipe. (5 marks)"
   ]
  },
  {
   "cell_type": "code",
   "execution_count": 103,
   "id": "be98b1b9",
   "metadata": {},
   "outputs": [
    {
     "data": {
      "text/html": [
       "<div>\n",
       "<style scoped>\n",
       "    .dataframe tbody tr th:only-of-type {\n",
       "        vertical-align: middle;\n",
       "    }\n",
       "\n",
       "    .dataframe tbody tr th {\n",
       "        vertical-align: top;\n",
       "    }\n",
       "\n",
       "    .dataframe thead th {\n",
       "        text-align: right;\n",
       "    }\n",
       "</style>\n",
       "<table border=\"1\" class=\"dataframe\">\n",
       "  <thead>\n",
       "    <tr style=\"text-align: right;\">\n",
       "      <th></th>\n",
       "      <th>StudyHoursPerWeek</th>\n",
       "      <th>GPA</th>\n",
       "    </tr>\n",
       "  </thead>\n",
       "  <tbody>\n",
       "    <tr>\n",
       "      <th>0</th>\n",
       "      <td>37</td>\n",
       "      <td>3.47</td>\n",
       "    </tr>\n",
       "    <tr>\n",
       "      <th>1</th>\n",
       "      <td>37</td>\n",
       "      <td>2.32</td>\n",
       "    </tr>\n",
       "    <tr>\n",
       "      <th>2</th>\n",
       "      <td>10</td>\n",
       "      <td>2.38</td>\n",
       "    </tr>\n",
       "    <tr>\n",
       "      <th>3</th>\n",
       "      <td>10</td>\n",
       "      <td>3.46</td>\n",
       "    </tr>\n",
       "    <tr>\n",
       "      <th>4</th>\n",
       "      <td>19</td>\n",
       "      <td>2.31</td>\n",
       "    </tr>\n",
       "    <tr>\n",
       "      <th>...</th>\n",
       "      <td>...</td>\n",
       "      <td>...</td>\n",
       "    </tr>\n",
       "    <tr>\n",
       "      <th>495</th>\n",
       "      <td>37</td>\n",
       "      <td>2.97</td>\n",
       "    </tr>\n",
       "    <tr>\n",
       "      <th>496</th>\n",
       "      <td>11</td>\n",
       "      <td>3.20</td>\n",
       "    </tr>\n",
       "    <tr>\n",
       "      <th>497</th>\n",
       "      <td>6</td>\n",
       "      <td>3.20</td>\n",
       "    </tr>\n",
       "    <tr>\n",
       "      <th>498</th>\n",
       "      <td>18</td>\n",
       "      <td>2.05</td>\n",
       "    </tr>\n",
       "    <tr>\n",
       "      <th>499</th>\n",
       "      <td>21</td>\n",
       "      <td>2.64</td>\n",
       "    </tr>\n",
       "  </tbody>\n",
       "</table>\n",
       "<p>500 rows × 2 columns</p>\n",
       "</div>"
      ],
      "text/plain": [
       "     StudyHoursPerWeek   GPA\n",
       "0                   37  3.47\n",
       "1                   37  2.32\n",
       "2                   10  2.38\n",
       "3                   10  3.46\n",
       "4                   19  2.31\n",
       "..                 ...   ...\n",
       "495                 37  2.97\n",
       "496                 11  3.20\n",
       "497                  6  3.20\n",
       "498                 18  2.05\n",
       "499                 21  2.64\n",
       "\n",
       "[500 rows x 2 columns]"
      ]
     },
     "execution_count": 103,
     "metadata": {},
     "output_type": "execute_result"
    }
   ],
   "source": [
    "# Here we are finding out whether there is a relationship between the study hours per week and the GPA of the students.\n",
    "# We shall do this using the correlation method\n",
    "\n",
    "variables = data[['StudyHoursPerWeek','GPA']]\n",
    "variables"
   ]
  },
  {
   "cell_type": "code",
   "execution_count": 104,
   "id": "3bf94113",
   "metadata": {
    "scrolled": true
   },
   "outputs": [
    {
     "data": {
      "text/html": [
       "<div>\n",
       "<style scoped>\n",
       "    .dataframe tbody tr th:only-of-type {\n",
       "        vertical-align: middle;\n",
       "    }\n",
       "\n",
       "    .dataframe tbody tr th {\n",
       "        vertical-align: top;\n",
       "    }\n",
       "\n",
       "    .dataframe thead th {\n",
       "        text-align: right;\n",
       "    }\n",
       "</style>\n",
       "<table border=\"1\" class=\"dataframe\">\n",
       "  <thead>\n",
       "    <tr style=\"text-align: right;\">\n",
       "      <th></th>\n",
       "      <th>StudyHoursPerWeek</th>\n",
       "      <th>GPA</th>\n",
       "    </tr>\n",
       "  </thead>\n",
       "  <tbody>\n",
       "    <tr>\n",
       "      <th>StudyHoursPerWeek</th>\n",
       "      <td>1.0000</td>\n",
       "      <td>0.0917</td>\n",
       "    </tr>\n",
       "    <tr>\n",
       "      <th>GPA</th>\n",
       "      <td>0.0917</td>\n",
       "      <td>1.0000</td>\n",
       "    </tr>\n",
       "  </tbody>\n",
       "</table>\n",
       "</div>"
      ],
      "text/plain": [
       "                   StudyHoursPerWeek     GPA\n",
       "StudyHoursPerWeek             1.0000  0.0917\n",
       "GPA                           0.0917  1.0000"
      ]
     },
     "execution_count": 104,
     "metadata": {},
     "output_type": "execute_result"
    }
   ],
   "source": [
    "# Here we find the correlation between the two variables\n",
    "correlation = variables.corr()\n",
    "correlation"
   ]
  },
  {
   "cell_type": "code",
   "execution_count": 105,
   "id": "6b1c79b6",
   "metadata": {},
   "outputs": [],
   "source": [
    "# The above shows a positive correlation which indicates a positive relationship between the study hours per week and the students GPA.\n",
    "# This means that an increase in the study hours per week leads to an increase in the students GPA"
   ]
  },
  {
   "cell_type": "code",
   "execution_count": 106,
   "id": "086d6ef1",
   "metadata": {},
   "outputs": [],
   "source": [
    "import matplotlib.pyplot as plt"
   ]
  },
  {
   "cell_type": "code",
   "execution_count": 107,
   "id": "a44f260d",
   "metadata": {},
   "outputs": [
    {
     "data": {
      "image/png": "[encoded data removed]",
      "text/plain": [
       "<Figure size 640x480 with 1 Axes>"
      ]
     },
     "metadata": {},
     "output_type": "display_data"
    }
   ],
   "source": [
    "variables.plot(kind = 'scatter', x = 'StudyHoursPerWeek', y = 'GPA')\n",
    "plt.xlabel('Study Hours Per Week')\n",
    "plt.ylabel('The GPA')\n",
    "plt.show()\n",
    "\n",
    "\n",
    "# This scatter plot can show us the impacts of study hours on the students GPA\n"
   ]
  },
  {
   "cell_type": "code",
   "execution_count": null,
   "id": "ec92f50b",
   "metadata": {},
   "outputs": [],
   "source": []
  },
  {
   "cell_type": "code",
   "execution_count": null,
   "id": "613790ea",
   "metadata": {},
   "outputs": [],
   "source": []
  },
  {
   "cell_type": "markdown",
   "id": "3adcc5a5",
   "metadata": {},
   "source": [
    "# Question. 3.\n",
    "Linear regression aims to predict a continuous target variable by finding the best-fit linear relationship between the target and the input features. The algorithm models the relationship using a linear\n",
    "equation: y = β0 + β1x + ϵ, where; y is the dependent variable, β’s are the coefficients (weights),\n",
    "x’s are the independent variables, ϵ is the error term. The goal is to find the coefficients (β’s) that\n",
    "minimize the difference between the predicted values and the actual values. This is typically done by\n",
    "minimizing the Mean Squared Error (MSE):\n",
    "\n",
    "\n",
    "MSE =\n",
    "1\n",
    "n\n",
    "Xn\n",
    "i=1\n",
    "(y − y)\n",
    "2\n",
    "\n",
    "\n",
    "\n",
    "\n",
    "\n",
    "(a) Briefly describe the steps involved in fitting a linear regression in Python? (2 marks)\n",
    "\n",
    "\n",
    "(b) What assumptions does the linear regression take into consideration? (3 marks)\n",
    "\n",
    "\n",
    "(c) Using the 2020 US Census dataset, train a simple linear regression predicting a continuous target variable using the scikit-learn library. From the output coefficients, generate an equation\n",
    "representing the trained simple linear regression? (3 amrks)\n",
    "\n",
    "\n",
    "(d) Compute the Mean Absolute Error (MSE) from your model. (2 marks)\n",
    "\n",
    "\n",
    "(e) Extract and interprete the key outputs from a linear regression model (5 marks)\n",
    "\n",
    "\n",
    "(f) Plot the linear regression model (5 marks)"
   ]
  },
  {
   "cell_type": "markdown",
   "id": "13d39c16",
   "metadata": {},
   "source": [
    "# (a) Briefly describe the steps involved in fitting a linear regression in Python? (2 marks)"
   ]
  },
  {
   "cell_type": "code",
   "execution_count": 108,
   "id": "45a4ee22",
   "metadata": {},
   "outputs": [],
   "source": [
    "\n",
    "# 1https://datascience.stackexchange.com/questions/10188/why-do-cost-functions-use-the-square-error\n",
    "\n",
    "\n",
    "\n",
    "# Import the neccessary libraries forexample pandas and sklearn.linear_model\n",
    "\n",
    "from sklearn.model_selection import train_test_split    \n",
    "from sklearn.linear_model import LinearRegression\n",
    "\n",
    "# Load and prepare data for modeling forexample handling missing values and normalising features.\n",
    "\n",
    "# Split the data into training and testing sets.\n",
    "\n",
    "# Create a linear regression model.\n",
    "# Fit the model to the training data using the fit method.\n",
    "# Make predictions on the testing data using predicting methods.\n",
    "# Evaluate the model's performance using metrics\n"
   ]
  },
  {
   "cell_type": "markdown",
   "id": "e2de42bb",
   "metadata": {},
   "source": [
    "#  (b) What assumptions does the linear regression take into consideration? (3 marks"
   ]
  },
  {
   "cell_type": "code",
   "execution_count": 109,
   "id": "01a00fe9",
   "metadata": {},
   "outputs": [],
   "source": [
    "# The relationship between independent and dependet variables should be linear/\n",
    "# It should be homoscedastic.The variance of the errors should be similar across all levels of independent variables/\n",
    "# The errors should be normally distributed.\n",
    "# Each observation should be independent from the other.\n",
    "# The data should not contain influential outliers."
   ]
  },
  {
   "cell_type": "code",
   "execution_count": null,
   "id": "2ac4f9f1",
   "metadata": {},
   "outputs": [],
   "source": []
  },
  {
   "cell_type": "markdown",
   "id": "305384a0",
   "metadata": {},
   "source": [
    "# (c) Using the 2020 US Census dataset, train a simple linear regression predicting a continuous target variable using the scikit-learn library. From the output coefficients, generate an equation representing the trained simple linear regression? (3 amrks)"
   ]
  },
  {
   "cell_type": "code",
   "execution_count": 110,
   "id": "29c009f3",
   "metadata": {},
   "outputs": [
    {
     "data": {
      "text/html": [
       "<div>\n",
       "<style scoped>\n",
       "    .dataframe tbody tr th:only-of-type {\n",
       "        vertical-align: middle;\n",
       "    }\n",
       "\n",
       "    .dataframe tbody tr th {\n",
       "        vertical-align: top;\n",
       "    }\n",
       "\n",
       "    .dataframe thead th {\n",
       "        text-align: right;\n",
       "    }\n",
       "</style>\n",
       "<table border=\"1\" class=\"dataframe\">\n",
       "  <thead>\n",
       "    <tr style=\"text-align: right;\">\n",
       "      <th></th>\n",
       "      <th>Age</th>\n",
       "      <th>Sex</th>\n",
       "      <th>Marital_status</th>\n",
       "      <th>Number_of_children</th>\n",
       "      <th>Family_size</th>\n",
       "      <th>Education-degree_recode</th>\n",
       "      <th>Education-degree_recode 2</th>\n",
       "      <th>Education</th>\n",
       "      <th>Race_ethnicity-multi_recode</th>\n",
       "      <th>Immigrate-year</th>\n",
       "      <th>Birthplace_recode</th>\n",
       "      <th>Speaks_English</th>\n",
       "      <th>Employment_status</th>\n",
       "      <th>Income-wages</th>\n",
       "      <th>Region_recode</th>\n",
       "      <th>Region-division_recode</th>\n",
       "      <th>Moved</th>\n",
       "      <th>Year</th>\n",
       "      <th>state</th>\n",
       "    </tr>\n",
       "  </thead>\n",
       "  <tbody>\n",
       "    <tr>\n",
       "      <th>0</th>\n",
       "      <td>30</td>\n",
       "      <td>Male</td>\n",
       "      <td>Married, spouse present</td>\n",
       "      <td>2</td>\n",
       "      <td>4</td>\n",
       "      <td>Masterâ€™s or professional degree</td>\n",
       "      <td>Master or professional degree</td>\n",
       "      <td>Master or PhD or professional degree</td>\n",
       "      <td>Non-Hispanic White</td>\n",
       "      <td>0</td>\n",
       "      <td>U.S. state, territory, or outlying region</td>\n",
       "      <td>Yes, speaks only English</td>\n",
       "      <td>Employed</td>\n",
       "      <td>63000</td>\n",
       "      <td>South</td>\n",
       "      <td>East South Central</td>\n",
       "      <td>Same house</td>\n",
       "      <td>2020</td>\n",
       "      <td>Tennessee</td>\n",
       "    </tr>\n",
       "    <tr>\n",
       "      <th>1</th>\n",
       "      <td>28</td>\n",
       "      <td>Female</td>\n",
       "      <td>Married, spouse present</td>\n",
       "      <td>1 child present</td>\n",
       "      <td>3</td>\n",
       "      <td>Masterâ€™s or professional degree</td>\n",
       "      <td>Master or professional degree</td>\n",
       "      <td>Master or PhD or professional degree</td>\n",
       "      <td>Non-Hispanic White</td>\n",
       "      <td>0</td>\n",
       "      <td>U.S. state, territory, or outlying region</td>\n",
       "      <td>Yes, speaks only English</td>\n",
       "      <td>Employed</td>\n",
       "      <td>46000</td>\n",
       "      <td>South</td>\n",
       "      <td>East South Central</td>\n",
       "      <td>Same house</td>\n",
       "      <td>2020</td>\n",
       "      <td>Tennessee</td>\n",
       "    </tr>\n",
       "    <tr>\n",
       "      <th>2</th>\n",
       "      <td>34</td>\n",
       "      <td>Male</td>\n",
       "      <td>Married, spouse present</td>\n",
       "      <td>1 child present</td>\n",
       "      <td>3</td>\n",
       "      <td>Bachelorâ€™s degree</td>\n",
       "      <td>Bachelor degree</td>\n",
       "      <td>Associate or Bachelor degree</td>\n",
       "      <td>Non-Hispanic White</td>\n",
       "      <td>0</td>\n",
       "      <td>U.S. state, territory, or outlying region</td>\n",
       "      <td>Yes, speaks only English</td>\n",
       "      <td>Employed</td>\n",
       "      <td>45000</td>\n",
       "      <td>South</td>\n",
       "      <td>East South Central</td>\n",
       "      <td>Same house</td>\n",
       "      <td>2020</td>\n",
       "      <td>Tennessee</td>\n",
       "    </tr>\n",
       "    <tr>\n",
       "      <th>3</th>\n",
       "      <td>58</td>\n",
       "      <td>Female</td>\n",
       "      <td>Married, spouse absent</td>\n",
       "      <td>1 child present</td>\n",
       "      <td>2</td>\n",
       "      <td>1 or more years of college, no degree</td>\n",
       "      <td>1 or more years of college, no degree</td>\n",
       "      <td>1 or more years of college, no degree</td>\n",
       "      <td>Non-Hispanic White</td>\n",
       "      <td>0</td>\n",
       "      <td>U.S. state, territory, or outlying region</td>\n",
       "      <td>Yes, speaks only English</td>\n",
       "      <td>Employed</td>\n",
       "      <td>55000</td>\n",
       "      <td>South</td>\n",
       "      <td>East South Central</td>\n",
       "      <td>Same house</td>\n",
       "      <td>2020</td>\n",
       "      <td>Tennessee</td>\n",
       "    </tr>\n",
       "    <tr>\n",
       "      <th>4</th>\n",
       "      <td>39</td>\n",
       "      <td>Male</td>\n",
       "      <td>Never married/single</td>\n",
       "      <td>0 children present</td>\n",
       "      <td>1</td>\n",
       "      <td>Bachelorâ€™s degree</td>\n",
       "      <td>Bachelor degree</td>\n",
       "      <td>Associate or Bachelor degree</td>\n",
       "      <td>Non-Hispanic White</td>\n",
       "      <td>0</td>\n",
       "      <td>U.S. state, territory, or outlying region</td>\n",
       "      <td>Yes, speaks only English</td>\n",
       "      <td>Employed</td>\n",
       "      <td>12000</td>\n",
       "      <td>South</td>\n",
       "      <td>East South Central</td>\n",
       "      <td>Same house</td>\n",
       "      <td>2020</td>\n",
       "      <td>Tennessee</td>\n",
       "    </tr>\n",
       "  </tbody>\n",
       "</table>\n",
       "</div>"
      ],
      "text/plain": [
       "   Age     Sex           Marital_status  Number_of_children  Family_size  \\\n",
       "0   30    Male  Married, spouse present                   2            4   \n",
       "1   28  Female  Married, spouse present     1 child present            3   \n",
       "2   34    Male  Married, spouse present     1 child present            3   \n",
       "3   58  Female   Married, spouse absent     1 child present            2   \n",
       "4   39    Male     Never married/single  0 children present            1   \n",
       "\n",
       "                 Education-degree_recode  \\\n",
       "0      Masterâ€™s or professional degree   \n",
       "1      Masterâ€™s or professional degree   \n",
       "2                    Bachelorâ€™s degree   \n",
       "3  1 or more years of college, no degree   \n",
       "4                    Bachelorâ€™s degree   \n",
       "\n",
       "               Education-degree_recode 2  \\\n",
       "0          Master or professional degree   \n",
       "1          Master or professional degree   \n",
       "2                        Bachelor degree   \n",
       "3  1 or more years of college, no degree   \n",
       "4                        Bachelor degree   \n",
       "\n",
       "                               Education Race_ethnicity-multi_recode  \\\n",
       "0   Master or PhD or professional degree          Non-Hispanic White   \n",
       "1   Master or PhD or professional degree          Non-Hispanic White   \n",
       "2           Associate or Bachelor degree          Non-Hispanic White   \n",
       "3  1 or more years of college, no degree          Non-Hispanic White   \n",
       "4           Associate or Bachelor degree          Non-Hispanic White   \n",
       "\n",
       "   Immigrate-year                          Birthplace_recode  \\\n",
       "0               0  U.S. state, territory, or outlying region   \n",
       "1               0  U.S. state, territory, or outlying region   \n",
       "2               0  U.S. state, territory, or outlying region   \n",
       "3               0  U.S. state, territory, or outlying region   \n",
       "4               0  U.S. state, territory, or outlying region   \n",
       "\n",
       "             Speaks_English Employment_status  Income-wages Region_recode  \\\n",
       "0  Yes, speaks only English          Employed         63000         South   \n",
       "1  Yes, speaks only English          Employed         46000         South   \n",
       "2  Yes, speaks only English          Employed         45000         South   \n",
       "3  Yes, speaks only English          Employed         55000         South   \n",
       "4  Yes, speaks only English          Employed         12000         South   \n",
       "\n",
       "  Region-division_recode       Moved  Year      state  \n",
       "0     East South Central  Same house  2020  Tennessee  \n",
       "1     East South Central  Same house  2020  Tennessee  \n",
       "2     East South Central  Same house  2020  Tennessee  \n",
       "3     East South Central  Same house  2020  Tennessee  \n",
       "4     East South Central  Same house  2020  Tennessee  "
      ]
     },
     "execution_count": 110,
     "metadata": {},
     "output_type": "execute_result"
    }
   ],
   "source": [
    "\n",
    "# 1https://datascience.stackexchange.com/questions/10188/why-do-cost-functions-use-the-square-error\n",
    "\n",
    "\n",
    "\n",
    "#Import the libraries required\n",
    "import numpy as np\n",
    "import matplotlib.pyplot as plt\n",
    "import pandas as pd\n",
    "#Importing the excel data \n",
    "\n",
    "dataset = pd.read_excel('Wages 2020Census cleaned.xlsx').head()\n",
    "dataset"
   ]
  },
  {
   "cell_type": "code",
   "execution_count": null,
   "id": "812aed3c",
   "metadata": {},
   "outputs": [],
   "source": []
  },
  {
   "cell_type": "code",
   "execution_count": null,
   "id": "7f14ce16",
   "metadata": {},
   "outputs": [],
   "source": []
  },
  {
   "cell_type": "markdown",
   "id": "d01710cc",
   "metadata": {},
   "source": [
    "# (d) Compute the Mean Absolute Error (MSE) from your model. (2 marks)"
   ]
  },
  {
   "cell_type": "code",
   "execution_count": 111,
   "id": "fa43c41a",
   "metadata": {},
   "outputs": [
    {
     "name": "stderr",
     "output_type": "stream",
     "text": [
      "C:\\Users\\Student\\AppData\\Local\\Temp\\ipykernel_14024\\499602089.py:3: FutureWarning: The default value of numeric_only in DataFrame.mean is deprecated. In a future version, it will default to False. In addition, specifying 'numeric_only=None' is deprecated. Select only valid columns or specify the value of numeric_only to silence this warning.\n",
      "  dataset.mean()\n"
     ]
    },
    {
     "data": {
      "text/plain": [
       "Age                  37.8\n",
       "Family_size           2.6\n",
       "Immigrate-year        0.0\n",
       "Income-wages      44200.0\n",
       "Year               2020.0\n",
       "dtype: float64"
      ]
     },
     "execution_count": 111,
     "metadata": {},
     "output_type": "execute_result"
    }
   ],
   "source": [
    "# Here we find the mean of our model.\n",
    "\n",
    "dataset.mean()"
   ]
  },
  {
   "cell_type": "code",
   "execution_count": null,
   "id": "264422c9",
   "metadata": {},
   "outputs": [],
   "source": []
  },
  {
   "cell_type": "markdown",
   "id": "2c1de972",
   "metadata": {},
   "source": [
    "# (e) Extract and interprete the key outputs from a linear regression model (5 marks)"
   ]
  },
  {
   "cell_type": "code",
   "execution_count": 112,
   "id": "8428fbd7",
   "metadata": {},
   "outputs": [
    {
     "name": "stdout",
     "output_type": "stream",
     "text": [
      "Coefficients: [0.07647059]\n"
     ]
    }
   ],
   "source": [
    "\n",
    "# 1https://datascience.stackexchange.com/questions/10188/why-do-cost-functions-use-the-square-error\n",
    "\n",
    "from sklearn.linear_model import LinearRegression\n",
    "\n",
    "coefficients = model.coef_\n",
    "print(f\"Coefficients: {coefficients}\")\n"
   ]
  },
  {
   "cell_type": "code",
   "execution_count": null,
   "id": "7fd5b3cc",
   "metadata": {},
   "outputs": [],
   "source": []
  },
  {
   "cell_type": "code",
   "execution_count": 113,
   "id": "2106637c",
   "metadata": {},
   "outputs": [
    {
     "name": "stdout",
     "output_type": "stream",
     "text": [
      "Intercept: 1.3867647058823531\n"
     ]
    }
   ],
   "source": [
    "intercept = model.intercept_\n",
    "print(f\"Intercept: {intercept}\")"
   ]
  },
  {
   "cell_type": "code",
   "execution_count": null,
   "id": "64a1f63f",
   "metadata": {},
   "outputs": [],
   "source": []
  },
  {
   "cell_type": "code",
   "execution_count": null,
   "id": "949e8cda",
   "metadata": {},
   "outputs": [],
   "source": []
  },
  {
   "cell_type": "code",
   "execution_count": null,
   "id": "63fb7e21",
   "metadata": {},
   "outputs": [],
   "source": []
  },
  {
   "cell_type": "markdown",
   "id": "9c0694ac",
   "metadata": {},
   "source": [
    "# (f) Plot the linear regression model (5 marks)"
   ]
  },
  {
   "cell_type": "code",
   "execution_count": 114,
   "id": "9d48f92e",
   "metadata": {},
   "outputs": [
    {
     "data": {
      "image/png": "[encoded data removed]",
      "text/plain": [
       "<Figure size 640x480 with 1 Axes>"
      ]
     },
     "metadata": {},
     "output_type": "display_data"
    }
   ],
   "source": [
    "\n",
    "# 1https://datascience.stackexchange.com/questions/10188/why-do-cost-functions-use-the-square-error\n",
    "\n",
    "\n",
    "\n",
    "# Import necessary libraries\n",
    "import numpy as np\n",
    "import matplotlib.pyplot as plt\n",
    "from sklearn.linear_model import LinearRegression\n",
    "\n",
    "# Example data\n",
    "# Independent variable (e.g., Age)\n",
    "X = np.array([25, 30, 22, 27]).reshape(-1, 1)  # Reshaped for scikit-learn\n",
    "# Dependent variable (e.g., GPA)\n",
    "y = np.array([3.2, 3.5, 3.0, 3.8])\n",
    "\n",
    "# Initialize and fit the linear regression model\n",
    "model = LinearRegression()\n",
    "model.fit(X, y)\n",
    "\n",
    "# Predict values using the trained model\n",
    "y_pred = model.predict(X)\n",
    "\n",
    "# Plotting the data and the line of best fit\n",
    "plt.scatter(X, y, color='black', label='Actual data')  \n",
    "plt.plot(X, y_pred, color='green', label='Regression line')  # The line of best fit\n",
    "plt.title('Linear Regression Model')\n",
    "plt.xlabel('Age')  # Independent variable\n",
    "plt.ylabel('GPA')  # Dependent variable\n",
    "plt.legend()\n",
    "plt.grid(False)\n",
    "plt.show()\n"
   ]
  },
  {
   "cell_type": "code",
   "execution_count": null,
   "id": "dc487d86",
   "metadata": {},
   "outputs": [],
   "source": []
  },
  {
   "cell_type": "code",
   "execution_count": null,
   "id": "e6cdf4c8",
   "metadata": {},
   "outputs": [],
   "source": []
  },
  {
   "cell_type": "code",
   "execution_count": null,
   "id": "27eb190c",
   "metadata": {},
   "outputs": [],
   "source": []
  },
  {
   "cell_type": "code",
   "execution_count": null,
   "id": "73d1568d",
   "metadata": {},
   "outputs": [],
   "source": []
  },
  {
   "cell_type": "code",
   "execution_count": null,
   "id": "e616d5c5",
   "metadata": {},
   "outputs": [],
   "source": [
    "\n"
   ]
  },
  {
   "cell_type": "markdown",
   "id": "5006bd42",
   "metadata": {},
   "source": [
    "\n",
    "# Question. 1.\n",
    "# Variation and variability:\n",
    "A random sample of 10,000 observational cases are taken from 2020\n",
    "US Census data on income. The response variable: yearly income ($). Note that the data has been\n",
    "cleaned to remove people who were not employed and/or income was reported as 0. Thus, n = 4, 365.\n",
    "\n",
    "\n",
    "(a) What is a ’typical’ yearly income for these 4,365 people? (3 marks)\n",
    "\n",
    "\n",
    "\n",
    "(b) Do the yearly incomes of these 4,365 people vary? How do you know? (2 marks)\n",
    "\n",
    "\n",
    "(c) What would the values of the standard deviation and IQR be if there was no variability in\n",
    "yearly income for these 4,365 people? (5 marks)\n",
    "\n",
    "\n",
    "(d) What would the values of the mean, median, Q1, Q3, minimum and maximum yearly incomes\n",
    "be if there was no variability? (5 marks)\n",
    "\n",
    "\n",
    "(e) What do you think are some possible causes or reasons or potential sources of the variability in\n",
    "the yearly incomes of these 4,365 people? (Hint: Perform bivariate analysis leveraging boxplots\n",
    "between response variable and education level, region of the US. Provide an explanation of your\n",
    "thinking with numerical support) (5 marks)\n"
   ]
  },
  {
   "cell_type": "markdown",
   "id": "4a1795bb",
   "metadata": {},
   "source": [
    "# (a) What is a ’typical’ yearly income for these 4,365 people? (3 marks)"
   ]
  },
  {
   "cell_type": "code",
   "execution_count": 115,
   "id": "0fa24559",
   "metadata": {},
   "outputs": [
    {
     "data": {
      "text/html": [
       "<div>\n",
       "<style scoped>\n",
       "    .dataframe tbody tr th:only-of-type {\n",
       "        vertical-align: middle;\n",
       "    }\n",
       "\n",
       "    .dataframe tbody tr th {\n",
       "        vertical-align: top;\n",
       "    }\n",
       "\n",
       "    .dataframe thead th {\n",
       "        text-align: right;\n",
       "    }\n",
       "</style>\n",
       "<table border=\"1\" class=\"dataframe\">\n",
       "  <thead>\n",
       "    <tr style=\"text-align: right;\">\n",
       "      <th></th>\n",
       "      <th>Age</th>\n",
       "      <th>Sex</th>\n",
       "      <th>Marital_status</th>\n",
       "      <th>Number_of_children</th>\n",
       "      <th>Family_size</th>\n",
       "      <th>Education-degree_recode</th>\n",
       "      <th>Education-degree_recode 2</th>\n",
       "      <th>Education</th>\n",
       "      <th>Race_ethnicity-multi_recode</th>\n",
       "      <th>Immigrate-year</th>\n",
       "      <th>Birthplace_recode</th>\n",
       "      <th>Speaks_English</th>\n",
       "      <th>Employment_status</th>\n",
       "      <th>Income-wages</th>\n",
       "      <th>Region_recode</th>\n",
       "      <th>Region-division_recode</th>\n",
       "      <th>Moved</th>\n",
       "      <th>Year</th>\n",
       "      <th>state</th>\n",
       "    </tr>\n",
       "  </thead>\n",
       "  <tbody>\n",
       "    <tr>\n",
       "      <th>0</th>\n",
       "      <td>30</td>\n",
       "      <td>Male</td>\n",
       "      <td>Married, spouse present</td>\n",
       "      <td>2</td>\n",
       "      <td>4</td>\n",
       "      <td>Masterâ€™s or professional degree</td>\n",
       "      <td>Master or professional degree</td>\n",
       "      <td>Master or PhD or professional degree</td>\n",
       "      <td>Non-Hispanic White</td>\n",
       "      <td>0</td>\n",
       "      <td>U.S. state, territory, or outlying region</td>\n",
       "      <td>Yes, speaks only English</td>\n",
       "      <td>Employed</td>\n",
       "      <td>63000</td>\n",
       "      <td>South</td>\n",
       "      <td>East South Central</td>\n",
       "      <td>Same house</td>\n",
       "      <td>2020</td>\n",
       "      <td>Tennessee</td>\n",
       "    </tr>\n",
       "    <tr>\n",
       "      <th>1</th>\n",
       "      <td>28</td>\n",
       "      <td>Female</td>\n",
       "      <td>Married, spouse present</td>\n",
       "      <td>1 child present</td>\n",
       "      <td>3</td>\n",
       "      <td>Masterâ€™s or professional degree</td>\n",
       "      <td>Master or professional degree</td>\n",
       "      <td>Master or PhD or professional degree</td>\n",
       "      <td>Non-Hispanic White</td>\n",
       "      <td>0</td>\n",
       "      <td>U.S. state, territory, or outlying region</td>\n",
       "      <td>Yes, speaks only English</td>\n",
       "      <td>Employed</td>\n",
       "      <td>46000</td>\n",
       "      <td>South</td>\n",
       "      <td>East South Central</td>\n",
       "      <td>Same house</td>\n",
       "      <td>2020</td>\n",
       "      <td>Tennessee</td>\n",
       "    </tr>\n",
       "    <tr>\n",
       "      <th>2</th>\n",
       "      <td>34</td>\n",
       "      <td>Male</td>\n",
       "      <td>Married, spouse present</td>\n",
       "      <td>1 child present</td>\n",
       "      <td>3</td>\n",
       "      <td>Bachelorâ€™s degree</td>\n",
       "      <td>Bachelor degree</td>\n",
       "      <td>Associate or Bachelor degree</td>\n",
       "      <td>Non-Hispanic White</td>\n",
       "      <td>0</td>\n",
       "      <td>U.S. state, territory, or outlying region</td>\n",
       "      <td>Yes, speaks only English</td>\n",
       "      <td>Employed</td>\n",
       "      <td>45000</td>\n",
       "      <td>South</td>\n",
       "      <td>East South Central</td>\n",
       "      <td>Same house</td>\n",
       "      <td>2020</td>\n",
       "      <td>Tennessee</td>\n",
       "    </tr>\n",
       "    <tr>\n",
       "      <th>3</th>\n",
       "      <td>58</td>\n",
       "      <td>Female</td>\n",
       "      <td>Married, spouse absent</td>\n",
       "      <td>1 child present</td>\n",
       "      <td>2</td>\n",
       "      <td>1 or more years of college, no degree</td>\n",
       "      <td>1 or more years of college, no degree</td>\n",
       "      <td>1 or more years of college, no degree</td>\n",
       "      <td>Non-Hispanic White</td>\n",
       "      <td>0</td>\n",
       "      <td>U.S. state, territory, or outlying region</td>\n",
       "      <td>Yes, speaks only English</td>\n",
       "      <td>Employed</td>\n",
       "      <td>55000</td>\n",
       "      <td>South</td>\n",
       "      <td>East South Central</td>\n",
       "      <td>Same house</td>\n",
       "      <td>2020</td>\n",
       "      <td>Tennessee</td>\n",
       "    </tr>\n",
       "    <tr>\n",
       "      <th>4</th>\n",
       "      <td>39</td>\n",
       "      <td>Male</td>\n",
       "      <td>Never married/single</td>\n",
       "      <td>0 children present</td>\n",
       "      <td>1</td>\n",
       "      <td>Bachelorâ€™s degree</td>\n",
       "      <td>Bachelor degree</td>\n",
       "      <td>Associate or Bachelor degree</td>\n",
       "      <td>Non-Hispanic White</td>\n",
       "      <td>0</td>\n",
       "      <td>U.S. state, territory, or outlying region</td>\n",
       "      <td>Yes, speaks only English</td>\n",
       "      <td>Employed</td>\n",
       "      <td>12000</td>\n",
       "      <td>South</td>\n",
       "      <td>East South Central</td>\n",
       "      <td>Same house</td>\n",
       "      <td>2020</td>\n",
       "      <td>Tennessee</td>\n",
       "    </tr>\n",
       "    <tr>\n",
       "      <th>...</th>\n",
       "      <td>...</td>\n",
       "      <td>...</td>\n",
       "      <td>...</td>\n",
       "      <td>...</td>\n",
       "      <td>...</td>\n",
       "      <td>...</td>\n",
       "      <td>...</td>\n",
       "      <td>...</td>\n",
       "      <td>...</td>\n",
       "      <td>...</td>\n",
       "      <td>...</td>\n",
       "      <td>...</td>\n",
       "      <td>...</td>\n",
       "      <td>...</td>\n",
       "      <td>...</td>\n",
       "      <td>...</td>\n",
       "      <td>...</td>\n",
       "      <td>...</td>\n",
       "      <td>...</td>\n",
       "    </tr>\n",
       "    <tr>\n",
       "      <th>4360</th>\n",
       "      <td>67</td>\n",
       "      <td>Male</td>\n",
       "      <td>Married, spouse present</td>\n",
       "      <td>0 children present</td>\n",
       "      <td>2</td>\n",
       "      <td>Bachelorâ€™s degree</td>\n",
       "      <td>Bachelor degree</td>\n",
       "      <td>Associate or Bachelor degree</td>\n",
       "      <td>Non-Hispanic White</td>\n",
       "      <td>0</td>\n",
       "      <td>U.S. state, territory, or outlying region</td>\n",
       "      <td>Yes, speaks only English</td>\n",
       "      <td>Employed</td>\n",
       "      <td>40000</td>\n",
       "      <td>Midwest</td>\n",
       "      <td>West North Central</td>\n",
       "      <td>Same house</td>\n",
       "      <td>2020</td>\n",
       "      <td>North Dakota</td>\n",
       "    </tr>\n",
       "    <tr>\n",
       "      <th>4361</th>\n",
       "      <td>48</td>\n",
       "      <td>Male</td>\n",
       "      <td>Married, spouse present</td>\n",
       "      <td>4</td>\n",
       "      <td>6</td>\n",
       "      <td>Associateâ€™s degree</td>\n",
       "      <td>Associate degree</td>\n",
       "      <td>Associate or Bachelor degree</td>\n",
       "      <td>Non-Hispanic White</td>\n",
       "      <td>0</td>\n",
       "      <td>U.S. state, territory, or outlying region</td>\n",
       "      <td>Yes, speaks only English</td>\n",
       "      <td>Employed</td>\n",
       "      <td>65000</td>\n",
       "      <td>Midwest</td>\n",
       "      <td>West North Central</td>\n",
       "      <td>Same house</td>\n",
       "      <td>2020</td>\n",
       "      <td>North Dakota</td>\n",
       "    </tr>\n",
       "    <tr>\n",
       "      <th>4362</th>\n",
       "      <td>33</td>\n",
       "      <td>Male</td>\n",
       "      <td>Married, spouse absent</td>\n",
       "      <td>0 children present</td>\n",
       "      <td>1</td>\n",
       "      <td>Associateâ€™s degree</td>\n",
       "      <td>Associate degree</td>\n",
       "      <td>Associate or Bachelor degree</td>\n",
       "      <td>Non-Hispanic Black</td>\n",
       "      <td>2017</td>\n",
       "      <td>Africa</td>\n",
       "      <td>Yes, speaks very well</td>\n",
       "      <td>Employed</td>\n",
       "      <td>45000</td>\n",
       "      <td>Midwest</td>\n",
       "      <td>West North Central</td>\n",
       "      <td>Same house</td>\n",
       "      <td>2020</td>\n",
       "      <td>North Dakota</td>\n",
       "    </tr>\n",
       "    <tr>\n",
       "      <th>4363</th>\n",
       "      <td>22</td>\n",
       "      <td>Female</td>\n",
       "      <td>Never married/single</td>\n",
       "      <td>0 children present</td>\n",
       "      <td>2</td>\n",
       "      <td>1 or more years of college, no degree</td>\n",
       "      <td>1 or more years of college, no degree</td>\n",
       "      <td>1 or more years of college, no degree</td>\n",
       "      <td>Non-Hispanic White</td>\n",
       "      <td>0</td>\n",
       "      <td>U.S. state, territory, or outlying region</td>\n",
       "      <td>Yes, speaks only English</td>\n",
       "      <td>Employed</td>\n",
       "      <td>500</td>\n",
       "      <td>Midwest</td>\n",
       "      <td>West North Central</td>\n",
       "      <td>Same house</td>\n",
       "      <td>2020</td>\n",
       "      <td>North Dakota</td>\n",
       "    </tr>\n",
       "    <tr>\n",
       "      <th>4364</th>\n",
       "      <td>49</td>\n",
       "      <td>Female</td>\n",
       "      <td>Married, spouse present</td>\n",
       "      <td>2</td>\n",
       "      <td>4</td>\n",
       "      <td>Masterâ€™s or professional degree</td>\n",
       "      <td>Master or professional degree</td>\n",
       "      <td>Master or PhD or professional degree</td>\n",
       "      <td>Non-Hispanic White</td>\n",
       "      <td>0</td>\n",
       "      <td>U.S. state, territory, or outlying region</td>\n",
       "      <td>Yes, speaks only English</td>\n",
       "      <td>Employed</td>\n",
       "      <td>498000</td>\n",
       "      <td>Midwest</td>\n",
       "      <td>West North Central</td>\n",
       "      <td>Same house</td>\n",
       "      <td>2020</td>\n",
       "      <td>North Dakota</td>\n",
       "    </tr>\n",
       "  </tbody>\n",
       "</table>\n",
       "<p>4365 rows × 19 columns</p>\n",
       "</div>"
      ],
      "text/plain": [
       "      Age     Sex           Marital_status  Number_of_children  Family_size  \\\n",
       "0      30    Male  Married, spouse present                   2            4   \n",
       "1      28  Female  Married, spouse present     1 child present            3   \n",
       "2      34    Male  Married, spouse present     1 child present            3   \n",
       "3      58  Female   Married, spouse absent     1 child present            2   \n",
       "4      39    Male     Never married/single  0 children present            1   \n",
       "...   ...     ...                      ...                 ...          ...   \n",
       "4360   67    Male  Married, spouse present  0 children present            2   \n",
       "4361   48    Male  Married, spouse present                   4            6   \n",
       "4362   33    Male   Married, spouse absent  0 children present            1   \n",
       "4363   22  Female     Never married/single  0 children present            2   \n",
       "4364   49  Female  Married, spouse present                   2            4   \n",
       "\n",
       "                    Education-degree_recode  \\\n",
       "0         Masterâ€™s or professional degree   \n",
       "1         Masterâ€™s or professional degree   \n",
       "2                       Bachelorâ€™s degree   \n",
       "3     1 or more years of college, no degree   \n",
       "4                       Bachelorâ€™s degree   \n",
       "...                                     ...   \n",
       "4360                    Bachelorâ€™s degree   \n",
       "4361                   Associateâ€™s degree   \n",
       "4362                   Associateâ€™s degree   \n",
       "4363  1 or more years of college, no degree   \n",
       "4364      Masterâ€™s or professional degree   \n",
       "\n",
       "                  Education-degree_recode 2  \\\n",
       "0             Master or professional degree   \n",
       "1             Master or professional degree   \n",
       "2                           Bachelor degree   \n",
       "3     1 or more years of college, no degree   \n",
       "4                           Bachelor degree   \n",
       "...                                     ...   \n",
       "4360                        Bachelor degree   \n",
       "4361                       Associate degree   \n",
       "4362                       Associate degree   \n",
       "4363  1 or more years of college, no degree   \n",
       "4364          Master or professional degree   \n",
       "\n",
       "                                  Education Race_ethnicity-multi_recode  \\\n",
       "0      Master or PhD or professional degree          Non-Hispanic White   \n",
       "1      Master or PhD or professional degree          Non-Hispanic White   \n",
       "2              Associate or Bachelor degree          Non-Hispanic White   \n",
       "3     1 or more years of college, no degree          Non-Hispanic White   \n",
       "4              Associate or Bachelor degree          Non-Hispanic White   \n",
       "...                                     ...                         ...   \n",
       "4360           Associate or Bachelor degree          Non-Hispanic White   \n",
       "4361           Associate or Bachelor degree          Non-Hispanic White   \n",
       "4362           Associate or Bachelor degree          Non-Hispanic Black   \n",
       "4363  1 or more years of college, no degree          Non-Hispanic White   \n",
       "4364   Master or PhD or professional degree          Non-Hispanic White   \n",
       "\n",
       "      Immigrate-year                          Birthplace_recode  \\\n",
       "0                  0  U.S. state, territory, or outlying region   \n",
       "1                  0  U.S. state, territory, or outlying region   \n",
       "2                  0  U.S. state, territory, or outlying region   \n",
       "3                  0  U.S. state, territory, or outlying region   \n",
       "4                  0  U.S. state, territory, or outlying region   \n",
       "...              ...                                        ...   \n",
       "4360               0  U.S. state, territory, or outlying region   \n",
       "4361               0  U.S. state, territory, or outlying region   \n",
       "4362            2017                                     Africa   \n",
       "4363               0  U.S. state, territory, or outlying region   \n",
       "4364               0  U.S. state, territory, or outlying region   \n",
       "\n",
       "                Speaks_English Employment_status  Income-wages Region_recode  \\\n",
       "0     Yes, speaks only English          Employed         63000         South   \n",
       "1     Yes, speaks only English          Employed         46000         South   \n",
       "2     Yes, speaks only English          Employed         45000         South   \n",
       "3     Yes, speaks only English          Employed         55000         South   \n",
       "4     Yes, speaks only English          Employed         12000         South   \n",
       "...                        ...               ...           ...           ...   \n",
       "4360  Yes, speaks only English          Employed         40000       Midwest   \n",
       "4361  Yes, speaks only English          Employed         65000       Midwest   \n",
       "4362     Yes, speaks very well          Employed         45000       Midwest   \n",
       "4363  Yes, speaks only English          Employed           500       Midwest   \n",
       "4364  Yes, speaks only English          Employed        498000       Midwest   \n",
       "\n",
       "     Region-division_recode       Moved  Year         state  \n",
       "0        East South Central  Same house  2020     Tennessee  \n",
       "1        East South Central  Same house  2020     Tennessee  \n",
       "2        East South Central  Same house  2020     Tennessee  \n",
       "3        East South Central  Same house  2020     Tennessee  \n",
       "4        East South Central  Same house  2020     Tennessee  \n",
       "...                     ...         ...   ...           ...  \n",
       "4360     West North Central  Same house  2020  North Dakota  \n",
       "4361     West North Central  Same house  2020  North Dakota  \n",
       "4362     West North Central  Same house  2020  North Dakota  \n",
       "4363     West North Central  Same house  2020  North Dakota  \n",
       "4364     West North Central  Same house  2020  North Dakota  \n",
       "\n",
       "[4365 rows x 19 columns]"
      ]
     },
     "execution_count": 115,
     "metadata": {},
     "output_type": "execute_result"
    }
   ],
   "source": [
    "# First load the excel data of Wages 2020Census and put it in your notebook as this.\n",
    "# Import pandas first\n",
    "\n",
    "import pandas as pd\n",
    "\n",
    "wages = pd.read_excel('Wages 2020Census cleaned.xlsx')\n",
    "wages"
   ]
  },
  {
   "cell_type": "code",
   "execution_count": 116,
   "id": "f028f9fe",
   "metadata": {},
   "outputs": [
    {
     "data": {
      "text/html": [
       "<div>\n",
       "<style scoped>\n",
       "    .dataframe tbody tr th:only-of-type {\n",
       "        vertical-align: middle;\n",
       "    }\n",
       "\n",
       "    .dataframe tbody tr th {\n",
       "        vertical-align: top;\n",
       "    }\n",
       "\n",
       "    .dataframe thead th {\n",
       "        text-align: right;\n",
       "    }\n",
       "</style>\n",
       "<table border=\"1\" class=\"dataframe\">\n",
       "  <thead>\n",
       "    <tr style=\"text-align: right;\">\n",
       "      <th></th>\n",
       "      <th>Age</th>\n",
       "      <th>Family_size</th>\n",
       "      <th>Immigrate-year</th>\n",
       "      <th>Income-wages</th>\n",
       "      <th>Year</th>\n",
       "    </tr>\n",
       "  </thead>\n",
       "  <tbody>\n",
       "    <tr>\n",
       "      <th>count</th>\n",
       "      <td>4365.000000</td>\n",
       "      <td>4365.000000</td>\n",
       "      <td>4365.000000</td>\n",
       "      <td>4365.000000</td>\n",
       "      <td>4365.0</td>\n",
       "    </tr>\n",
       "    <tr>\n",
       "      <th>mean</th>\n",
       "      <td>41.688889</td>\n",
       "      <td>2.964490</td>\n",
       "      <td>360.903551</td>\n",
       "      <td>58704.164948</td>\n",
       "      <td>2020.0</td>\n",
       "    </tr>\n",
       "    <tr>\n",
       "      <th>std</th>\n",
       "      <td>14.287954</td>\n",
       "      <td>1.603552</td>\n",
       "      <td>769.040850</td>\n",
       "      <td>68338.061435</td>\n",
       "      <td>0.0</td>\n",
       "    </tr>\n",
       "    <tr>\n",
       "      <th>min</th>\n",
       "      <td>16.000000</td>\n",
       "      <td>1.000000</td>\n",
       "      <td>0.000000</td>\n",
       "      <td>30.000000</td>\n",
       "      <td>2020.0</td>\n",
       "    </tr>\n",
       "    <tr>\n",
       "      <th>25%</th>\n",
       "      <td>30.000000</td>\n",
       "      <td>2.000000</td>\n",
       "      <td>0.000000</td>\n",
       "      <td>22000.000000</td>\n",
       "      <td>2020.0</td>\n",
       "    </tr>\n",
       "    <tr>\n",
       "      <th>50%</th>\n",
       "      <td>41.000000</td>\n",
       "      <td>3.000000</td>\n",
       "      <td>0.000000</td>\n",
       "      <td>41000.000000</td>\n",
       "      <td>2020.0</td>\n",
       "    </tr>\n",
       "    <tr>\n",
       "      <th>75%</th>\n",
       "      <td>53.000000</td>\n",
       "      <td>4.000000</td>\n",
       "      <td>0.000000</td>\n",
       "      <td>71000.000000</td>\n",
       "      <td>2020.0</td>\n",
       "    </tr>\n",
       "    <tr>\n",
       "      <th>max</th>\n",
       "      <td>87.000000</td>\n",
       "      <td>14.000000</td>\n",
       "      <td>2020.000000</td>\n",
       "      <td>661000.000000</td>\n",
       "      <td>2020.0</td>\n",
       "    </tr>\n",
       "  </tbody>\n",
       "</table>\n",
       "</div>"
      ],
      "text/plain": [
       "               Age  Family_size  Immigrate-year   Income-wages    Year\n",
       "count  4365.000000  4365.000000     4365.000000    4365.000000  4365.0\n",
       "mean     41.688889     2.964490      360.903551   58704.164948  2020.0\n",
       "std      14.287954     1.603552      769.040850   68338.061435     0.0\n",
       "min      16.000000     1.000000        0.000000      30.000000  2020.0\n",
       "25%      30.000000     2.000000        0.000000   22000.000000  2020.0\n",
       "50%      41.000000     3.000000        0.000000   41000.000000  2020.0\n",
       "75%      53.000000     4.000000        0.000000   71000.000000  2020.0\n",
       "max      87.000000    14.000000     2020.000000  661000.000000  2020.0"
      ]
     },
     "execution_count": 116,
     "metadata": {},
     "output_type": "execute_result"
    }
   ],
   "source": [
    "# Here we calculate the mean and median of the dataset\n",
    "wages.describe()\n",
    "\n",
    "# We do this in order to find the variables with only quantitative data\n",
    "\n"
   ]
  },
  {
   "cell_type": "code",
   "execution_count": 117,
   "id": "b6a38cb7",
   "metadata": {},
   "outputs": [
    {
     "name": "stdout",
     "output_type": "stream",
     "text": [
      "<class 'pandas.core.frame.DataFrame'>\n",
      "RangeIndex: 500 entries, 0 to 499\n",
      "Data columns (total 9 columns):\n",
      " #   Column                     Non-Null Count  Dtype  \n",
      "---  ------                     --------------  -----  \n",
      " 0   StudentID                  500 non-null    int64  \n",
      " 1   Gender                     500 non-null    object \n",
      " 2   Age                        500 non-null    int64  \n",
      " 3   StudyHoursPerWeek          500 non-null    int64  \n",
      " 4   AttendanceRate             500 non-null    float64\n",
      " 5   GPA                        500 non-null    float64\n",
      " 6   Major                      500 non-null    object \n",
      " 7   PartTimeJob                500 non-null    object \n",
      " 8   ExtraCurricularActivities  500 non-null    object \n",
      "dtypes: float64(2), int64(3), object(4)\n",
      "memory usage: 35.3+ KB\n"
     ]
    }
   ],
   "source": [
    "# We also find the format of our datasrt sing info()\n",
    "data.info()"
   ]
  },
  {
   "cell_type": "code",
   "execution_count": null,
   "id": "89864f39",
   "metadata": {},
   "outputs": [],
   "source": []
  },
  {
   "cell_type": "code",
   "execution_count": null,
   "id": "36fbd1a5",
   "metadata": {},
   "outputs": [],
   "source": []
  },
  {
   "cell_type": "code",
   "execution_count": 118,
   "id": "b59ef2c6",
   "metadata": {},
   "outputs": [
    {
     "name": "stdout",
     "output_type": "stream",
     "text": [
      "$ 58704.16494845361\n"
     ]
    }
   ],
   "source": [
    "# We find the  typical yearly income mean \n",
    "\n",
    "income_mean = wages['Income-wages'].mean()\n",
    "print('$',income_mean)"
   ]
  },
  {
   "cell_type": "code",
   "execution_count": 119,
   "id": "b942fa5a",
   "metadata": {},
   "outputs": [
    {
     "name": "stdout",
     "output_type": "stream",
     "text": [
      "$ 41000.0\n"
     ]
    }
   ],
   "source": [
    "# We find the median of the typical income  \n",
    "\n",
    "income_median = wages['Income-wages'].median()\n",
    "print('$',income_median)"
   ]
  },
  {
   "cell_type": "code",
   "execution_count": null,
   "id": "2a53c1f5",
   "metadata": {},
   "outputs": [],
   "source": []
  },
  {
   "cell_type": "markdown",
   "id": "f2631ff7",
   "metadata": {},
   "source": [
    "# (b) Do the yearly incomes of these 4,365 people vary? How do you know? (2 marks)"
   ]
  },
  {
   "cell_type": "code",
   "execution_count": 120,
   "id": "69eee57c",
   "metadata": {},
   "outputs": [
    {
     "name": "stdout",
     "output_type": "stream",
     "text": [
      "The income standard deviation is $68338.06143515665\n"
     ]
    }
   ],
   "source": [
    "# Here we first find the standard deviation of the income wages to see how the values are spread around the mean\n",
    "# A high standard deviation means the incomes are widely spread out;\n",
    "#A low standard deviation indicates they are clustered close to the mean.\n",
    "\n",
    "standard_deviation_income_wages = wages['Income-wages'].std()\n",
    "print(f\"The income standard deviation is ${standard_deviation_income_wages}\")\n"
   ]
  },
  {
   "cell_type": "code",
   "execution_count": 121,
   "id": "1a2949f8",
   "metadata": {},
   "outputs": [
    {
     "name": "stdout",
     "output_type": "stream",
     "text": [
      "The quantile range of the income is $49000.0\n"
     ]
    }
   ],
   "source": [
    "# We also find the interquatile range of the income wages.\n",
    "# Interquartile Range his represents the middle 50% of the data (the range between the first and third quartiles).\n",
    "# If the IQR is large, there is substantial variation.\n",
    "inter_quartile_range = wages['Income-wages'].quantile(0.75) - wages['Income-wages'].quantile(0.25)\n",
    "print(f\"The quantile range of the income is ${inter_quartile_range}\")"
   ]
  },
  {
   "cell_type": "code",
   "execution_count": 122,
   "id": "73479e33",
   "metadata": {},
   "outputs": [
    {
     "data": {
      "image/png": "[encoded data removed]",
      "text/plain": [
       "<Figure size 640x480 with 1 Axes>"
      ]
     },
     "metadata": {},
     "output_type": "display_data"
    }
   ],
   "source": [
    "# We now visualise the income wages of the year by plotting a histogram\n",
    "wages['Income-wages'].plot(kind = 'hist', bins = 55, color = 'purple')\n",
    "plt.title('Visualizing the variations in the Income wages')\n",
    "plt.xlabel('Yearly Income ($)')\n",
    "plt.ylabel('Frequency')\n",
    "plt.show()\n",
    "\n"
   ]
  },
  {
   "cell_type": "code",
   "execution_count": 123,
   "id": "33636c87",
   "metadata": {},
   "outputs": [],
   "source": [
    "# Therefore we conclude that the incomes of the people vary because the incomes are not the same"
   ]
  },
  {
   "cell_type": "code",
   "execution_count": null,
   "id": "816acb8c",
   "metadata": {},
   "outputs": [],
   "source": []
  },
  {
   "cell_type": "markdown",
   "id": "e7e71c0c",
   "metadata": {},
   "source": [
    "# (c) What would the values of the standard deviation and IQR be if there was no variability in yearly income for these 4,365 people? (5 marks)"
   ]
  },
  {
   "cell_type": "code",
   "execution_count": 124,
   "id": "3c4a33aa",
   "metadata": {},
   "outputs": [],
   "source": [
    "# The values of the standard deviation and IQR  would all br the same if there was no variability."
   ]
  },
  {
   "cell_type": "code",
   "execution_count": null,
   "id": "f222c38e",
   "metadata": {},
   "outputs": [],
   "source": []
  },
  {
   "cell_type": "markdown",
   "id": "d3ef3c36",
   "metadata": {},
   "source": [
    "# (d) What would the values of the mean, median, Q1, Q3, minimum and maximum yearly incomes be if there was no variability? (5 marks)"
   ]
  },
  {
   "cell_type": "code",
   "execution_count": 125,
   "id": "564692c3",
   "metadata": {},
   "outputs": [
    {
     "name": "stdout",
     "output_type": "stream",
     "text": [
      "The mean values of the income wages, Q1, Q3, Min, Max  will be 58704.16494845361\n"
     ]
    }
   ],
   "source": [
    "# We have made the mean the sam throughout.\n",
    "same_income = wages['Income-wages'].mean()\n",
    "print(f\"The mean values of the income wages, Q1, Q3, Min, Max  will be {same_income}\")"
   ]
  },
  {
   "cell_type": "markdown",
   "id": "b3095193",
   "metadata": {},
   "source": [
    "# (e) What do you think are some possible causes or reasons or potential sources of the variability in the yearly incomes of these 4,365 people? (Hint: Perform bivariate analysis leveraging boxplots between response variable and education level, region of the US. Provide an explanation of your thinking with numerical support) (5 marks)"
   ]
  },
  {
   "cell_type": "code",
   "execution_count": 126,
   "id": "96717e48",
   "metadata": {},
   "outputs": [],
   "source": [
    "import pandas as pd\n",
    "import matplotlib.pyplot as plt\n",
    "import seaborn as sns"
   ]
  },
  {
   "cell_type": "code",
   "execution_count": 127,
   "id": "01ab4b3f",
   "metadata": {
    "scrolled": false
   },
   "outputs": [
    {
     "data": {
      "image/png": "[encoded data removed]",
      "text/plain": [
       "<Figure size 700x400 with 1 Axes>"
      ]
     },
     "metadata": {},
     "output_type": "display_data"
    }
   ],
   "source": [
    "plt.figure(figsize = (7,4))\n",
    "sns.boxplot(x = 'Education-degree_recode', y = 'Income-wages',data = wages)\n",
    "plt.title('Education level By Income Wages')\n",
    "plt.xticks(rotation = 80)\n",
    "plt.xlabel('Income Wages ($)')\n",
    "plt.ylabel('Education')\n",
    "plt.show()"
   ]
  },
  {
   "cell_type": "code",
   "execution_count": 128,
   "id": "19fac84a",
   "metadata": {},
   "outputs": [],
   "source": [
    "# I think the variability would be due to the fact that the education levels of some people is higher than others.\n",
    "# This comes in in case the people eith a high level of education are paid more income in all states that those of low education levels."
   ]
  },
  {
   "cell_type": "code",
   "execution_count": null,
   "id": "8f9ccc0b",
   "metadata": {},
   "outputs": [],
   "source": []
  },
  {
   "cell_type": "code",
   "execution_count": 129,
   "id": "4139a8af",
   "metadata": {},
   "outputs": [
    {
     "data": {
      "image/png": "[encoded data removed]",
      "text/plain": [
       "<Figure size 700x400 with 1 Axes>"
      ]
     },
     "metadata": {},
     "output_type": "display_data"
    }
   ],
   "source": [
    "plt.figure(figsize = (7,4))\n",
    "sns.boxplot(x = 'Region_recode', y = 'Income-wages',data = wages)\n",
    "plt.title('Region recode level By Income Wages')\n",
    "plt.xticks(rotation = 30)\n",
    "plt.xlabel('Income Wages ($)')\n",
    "plt.ylabel('Region Recode')\n",
    "plt.show()"
   ]
  },
  {
   "cell_type": "code",
   "execution_count": 130,
   "id": "5c0d6b05",
   "metadata": {},
   "outputs": [],
   "source": [
    "# The variabilities in the oncomes of the people can also occur incase some regions are more developed than  others.\n",
    "# This is because in more developed regions, the salary of the people in all aspects is higher than the underdeveloped regions"
   ]
  },
  {
   "cell_type": "code",
   "execution_count": null,
   "id": "a6b171fa",
   "metadata": {},
   "outputs": [],
   "source": []
  },
  {
   "cell_type": "markdown",
   "id": "29c1f279",
   "metadata": {},
   "source": [
    "# BONUS QUESTION"
   ]
  },
  {
   "cell_type": "markdown",
   "id": "57ce3413",
   "metadata": {},
   "source": [
    "# 4. \n",
    "(a) Multiply a 5x3 matrix by a 3x2 matrix (real matrix product) (Hint: create a 5x3 and 3x2 matrices\n",
    "and peform matrix multiplication).\n",
    "\n",
    "\n",
    "(b) Create a 3x3 identity matrix\n",
    "\n",
    "\n",
    "(c) Create a vector with values ranging from 10 to 49).\n",
    "\n",
    "\n",
    "(d) Create a null vector of size 10.\n",
    "\n",
    "\n",
    "(e) Create a 3x3x3 array with random values\n",
    "\n",
    "\n",
    "(f) Create a 5x5 matrix with values 1,2,3,4 just below the diagonal\n",
    "\n",
    "\n",
    "(g) Normalize a 5x5 random matrix\n",
    "\n",
    "\n",
    "(h) How to get the dates of yesterday, today and tomorrow?\n",
    "\n",
    "\n",
    "(i) Find indices of non-zero elements from [1,2,0,0,4,0]. In all the above questions explain your\n",
    "approach."
   ]
  },
  {
   "cell_type": "markdown",
   "id": "59c8894d",
   "metadata": {},
   "source": [
    "# (a) Multiply a 5x3 matrix by a 3x2 matrix (real matrix product) (Hint: create a 5x3 and 3x2 matrices and peform matrix multiplication)."
   ]
  },
  {
   "cell_type": "code",
   "execution_count": 131,
   "id": "8f55e810",
   "metadata": {},
   "outputs": [
    {
     "name": "stdout",
     "output_type": "stream",
     "text": [
      "[[[1 2 3]\n",
      "  [3 4 5]\n",
      "  [2 3 4]\n",
      "  [3 2 1]\n",
      "  [2 3 3]]]\n"
     ]
    }
   ],
   "source": [
    "# First create a 5x3 matrix using numpy.\n",
    "matrix1 = np.array([[[1,2,3],[3,4,5],[2,3,4],[3,2,1],[2,3,3,]]])\n",
    "print(matrix1)"
   ]
  },
  {
   "cell_type": "code",
   "execution_count": 132,
   "id": "5ef2ec61",
   "metadata": {},
   "outputs": [
    {
     "name": "stdout",
     "output_type": "stream",
     "text": [
      "[[[1 2]\n",
      "  [3 4]\n",
      "  [3 5]]]\n"
     ]
    }
   ],
   "source": [
    "# We then create the 3x2 matrix \n",
    "matrix2 = np.array([[[1,2],[3,4],[3,5]]])\n",
    "print(matrix2)"
   ]
  },
  {
   "cell_type": "code",
   "execution_count": 133,
   "id": "6c56b229",
   "metadata": {},
   "outputs": [
    {
     "data": {
      "text/plain": [
       "array([[[[16, 25]],\n",
       "\n",
       "        [[30, 47]],\n",
       "\n",
       "        [[23, 36]],\n",
       "\n",
       "        [[12, 19]],\n",
       "\n",
       "        [[20, 31]]]])"
      ]
     },
     "execution_count": 133,
     "metadata": {},
     "output_type": "execute_result"
    }
   ],
   "source": [
    "# Then we multiply the two matrices together using dot\n",
    "product = np.dot(matrix1,matrix2)\n",
    "product"
   ]
  },
  {
   "cell_type": "code",
   "execution_count": null,
   "id": "61b38373",
   "metadata": {},
   "outputs": [],
   "source": []
  },
  {
   "cell_type": "code",
   "execution_count": null,
   "id": "83bcd01f",
   "metadata": {},
   "outputs": [],
   "source": []
  },
  {
   "cell_type": "code",
   "execution_count": null,
   "id": "a95b1adb",
   "metadata": {},
   "outputs": [],
   "source": []
  },
  {
   "cell_type": "markdown",
   "id": "5d5c58ad",
   "metadata": {},
   "source": [
    "# b) Create a 3x3 identity matrix"
   ]
  },
  {
   "cell_type": "code",
   "execution_count": 134,
   "id": "e7bf52b3",
   "metadata": {},
   "outputs": [
    {
     "data": {
      "text/plain": [
       "array([[1., 0., 0.],\n",
       "       [0., 1., 0.],\n",
       "       [0., 0., 1.]])"
      ]
     },
     "execution_count": 134,
     "metadata": {},
     "output_type": "execute_result"
    }
   ],
   "source": [
    "# We create an identity matrix using np.identity \n",
    "identity_matrix = np.identity(3)\n",
    "identity_matrix"
   ]
  },
  {
   "cell_type": "code",
   "execution_count": null,
   "id": "1106a788",
   "metadata": {},
   "outputs": [],
   "source": []
  },
  {
   "cell_type": "markdown",
   "id": "331287c9",
   "metadata": {},
   "source": [
    "#  (c) Create a vector with values ranging from 10 to 49)."
   ]
  },
  {
   "cell_type": "code",
   "execution_count": 135,
   "id": "af47b019",
   "metadata": {},
   "outputs": [
    {
     "data": {
      "text/plain": [
       "array([10, 11, 12, 13, 14, 15, 16, 17, 18, 19, 20, 21, 22, 23, 24, 25, 26,\n",
       "       27, 28, 29, 30, 31, 32, 33, 34, 35, 36, 37, 38, 39, 40, 41, 42, 43,\n",
       "       44, 45, 46, 47, 48, 49])"
      ]
     },
     "execution_count": 135,
     "metadata": {},
     "output_type": "execute_result"
    }
   ],
   "source": [
    "# We create a vector and use nupy.range in order to find the numbers we want\n",
    "vector = np.arange(10,50)\n",
    "vector"
   ]
  },
  {
   "cell_type": "markdown",
   "id": "16e87917",
   "metadata": {},
   "source": [
    "# (d) Create a null vector of size 10."
   ]
  },
  {
   "cell_type": "code",
   "execution_count": 136,
   "id": "369483f9",
   "metadata": {},
   "outputs": [
    {
     "data": {
      "text/plain": [
       "array([0., 0., 0., 0., 0., 0., 0., 0., 0., 0.])"
      ]
     },
     "execution_count": 136,
     "metadata": {},
     "output_type": "execute_result"
    }
   ],
   "source": [
    "# We create the vector using np.zeros because a null vector comtains only zeros/\n",
    "null_vector = np.zeros(10)\n",
    "null_vector"
   ]
  },
  {
   "cell_type": "markdown",
   "id": "3c2aff05",
   "metadata": {},
   "source": [
    "# (e) Create a 3x3x3 array with random values"
   ]
  },
  {
   "cell_type": "code",
   "execution_count": 137,
   "id": "33a0ecc0",
   "metadata": {},
   "outputs": [
    {
     "data": {
      "text/plain": [
       "array([[[0.17609737, 0.47392381, 0.09923772],\n",
       "        [0.86357177, 0.42406726, 0.38732309],\n",
       "        [0.86557395, 0.17871264, 0.94523064]],\n",
       "\n",
       "       [[0.35415368, 0.85823396, 0.8029809 ],\n",
       "        [0.08421869, 0.22445741, 0.89493453],\n",
       "        [0.56416891, 0.97186594, 0.17868718]],\n",
       "\n",
       "       [[0.43087806, 0.53394523, 0.38192382],\n",
       "        [0.38358765, 0.55213902, 0.11547827],\n",
       "        [0.01638049, 0.49956583, 0.39012736]]])"
      ]
     },
     "execution_count": 137,
     "metadata": {},
     "output_type": "execute_result"
    }
   ],
   "source": [
    "# We dirst import random from nupy because we are dealing with random values\n",
    "from numpy import random\n",
    "\n",
    "array = np.random.rand(3,3,3)\n",
    "array"
   ]
  },
  {
   "cell_type": "markdown",
   "id": "fee61466",
   "metadata": {},
   "source": [
    "# (f) Create a 5x5 matrix with values 1,2,3,4 just below the diagonal"
   ]
  },
  {
   "cell_type": "code",
   "execution_count": 138,
   "id": "0df31c2b",
   "metadata": {},
   "outputs": [
    {
     "name": "stdout",
     "output_type": "stream",
     "text": [
      "[[0. 0. 0. 0. 0.]\n",
      " [1. 0. 0. 0. 0.]\n",
      " [0. 2. 0. 0. 0.]\n",
      " [0. 0. 3. 0. 0.]\n",
      " [0. 0. 0. 4. 0.]]\n"
     ]
    }
   ],
   "source": [
    "# This means the matrix whos elements below the diagonal are 1,2,3,4. and all othe elements are zeros\n",
    "# np.zero makes all the values of a 5x5 matrix to bo zeros\n",
    "# in the first row only zeros\n",
    "# in the second row , 1 appears in the first column\n",
    "# in the third row , 2 appears in the second column \n",
    "# in the 4th row , 3 appears in the third column\n",
    " # in the 5th row , 4 appears in the 4th column\n",
    "            \n",
    "matrix = np.zeros((5,5)) \n",
    "matrix [1,0] = 1          \n",
    "matrix [2,1] = 2          \n",
    "matrix [3,2] = 3\n",
    "matrix [4,3] = 4          \n",
    "                    \n",
    "print(matrix)              "
   ]
  },
  {
   "cell_type": "markdown",
   "id": "3c92ca93",
   "metadata": {},
   "source": [
    "# (g) Normalize a 5x5 random matrix"
   ]
  },
  {
   "cell_type": "code",
   "execution_count": 139,
   "id": "6e8b33b9",
   "metadata": {},
   "outputs": [
    {
     "data": {
      "text/plain": [
       "array([[0.02806314, 0.28245639, 0.90662969, 0.22880315, 0.39165486],\n",
       "       [0.85437811, 0.75569716, 0.55188076, 0.91238655, 0.90362417],\n",
       "       [0.15080149, 0.41350089, 0.65703271, 0.560814  , 0.77734778],\n",
       "       [0.15183293, 0.750149  , 0.24245033, 0.9704594 , 0.04995453],\n",
       "       [0.02745061, 0.08155111, 0.7386242 , 0.72300973, 0.18036632]])"
      ]
     },
     "execution_count": 139,
     "metadata": {},
     "output_type": "execute_result"
    }
   ],
   "source": [
    " # First craete a random 5x5 matrix usingnumpy.random.rand\n",
    "random_matrix = np.random.rand(5,5)\n",
    "random_matrix \n"
   ]
  },
  {
   "cell_type": "code",
   "execution_count": 140,
   "id": "92ff7f06",
   "metadata": {},
   "outputs": [
    {
     "data": {
      "text/plain": [
       "array([[0.02891738, 0.2910543 , 0.93422733, 0.23576788, 0.40357676],\n",
       "       [0.88038522, 0.77870044, 0.56867991, 0.94015943, 0.93113032],\n",
       "       [0.15539185, 0.42608778, 0.67703266, 0.57788508, 0.8010101 ],\n",
       "       [0.1564547 , 0.77298339, 0.24983048, 1.        , 0.05147514],\n",
       "       [0.0282862 , 0.08403351, 0.76110778, 0.74501801, 0.18585664]])"
      ]
     },
     "execution_count": 140,
     "metadata": {},
     "output_type": "execute_result"
    }
   ],
   "source": [
    "# Then to normalise means dividing the original matrix with the maximum values of that same matrix\n",
    "normalised_matrix = (random_matrix/random_matrix.max())\n",
    "normalised_matrix "
   ]
  },
  {
   "cell_type": "code",
   "execution_count": null,
   "id": "bc443c9b",
   "metadata": {},
   "outputs": [],
   "source": []
  },
  {
   "cell_type": "markdown",
   "id": "6f9c2367",
   "metadata": {},
   "source": [
    "# (h) How to get the dates of yesterday, today and tomorrow?"
   ]
  },
  {
   "cell_type": "code",
   "execution_count": 141,
   "id": "a5b93cc4",
   "metadata": {},
   "outputs": [
    {
     "name": "stdout",
     "output_type": "stream",
     "text": [
      "todays date: 2024-12-12\n",
      "yesterdays date: 2024-12-11\n",
      "tommorows date: 2024-12-13\n"
     ]
    }
   ],
   "source": [
    "# First we import the datetime from datetime which will help us to get the dates\n",
    "from datetime import datetime,timedelta\n",
    "\n",
    "today =datetime.now().date()\n",
    "print(\"todays date:\" , today)\n",
    "yesterday =today-timedelta(days=1)\n",
    "print(\"yesterdays date:\" ,yesterday)\n",
    "tommorow =today + timedelta(days =1)\n",
    "print(\"tommorows date:\" ,tommorow)"
   ]
  },
  {
   "cell_type": "code",
   "execution_count": null,
   "id": "b5b01822",
   "metadata": {},
   "outputs": [],
   "source": []
  },
  {
   "cell_type": "code",
   "execution_count": null,
   "id": "758b8b01",
   "metadata": {},
   "outputs": [],
   "source": []
  },
  {
   "cell_type": "markdown",
   "id": "68df991f",
   "metadata": {},
   "source": [
    "# (i) Find indices of non-zero elements from [1,2,0,0,4,0]. In all the above questions explain your approach."
   ]
  },
  {
   "cell_type": "code",
   "execution_count": null,
   "id": "18210bc4",
   "metadata": {},
   "outputs": [],
   "source": []
  },
  {
   "cell_type": "code",
   "execution_count": null,
   "id": "f5f01f7d",
   "metadata": {},
   "outputs": [],
   "source": []
  },
  {
   "cell_type": "code",
   "execution_count": 142,
   "id": "0ba8b5ee",
   "metadata": {},
   "outputs": [
    {
     "data": {
      "text/plain": [
       "array([1, 2, 0, 0, 4, 0])"
      ]
     },
     "execution_count": 142,
     "metadata": {},
     "output_type": "execute_result"
    }
   ],
   "source": [
    "# We use non zero from numpy because we need values in our list to print and eliminate the zeros\n",
    "matrix = np.array([1,2,0,0,4,0])\n",
    "matrix"
   ]
  },
  {
   "cell_type": "code",
   "execution_count": 143,
   "id": "203ea34f",
   "metadata": {},
   "outputs": [
    {
     "data": {
      "text/plain": [
       "array([0, 1, 4], dtype=int64)"
      ]
     },
     "execution_count": 143,
     "metadata": {},
     "output_type": "execute_result"
    }
   ],
   "source": [
    "non_zeros = np.nonzero(matrix)[0]\n",
    "non_zeros"
   ]
  },
  {
   "cell_type": "code",
   "execution_count": null,
   "id": "0628681f",
   "metadata": {},
   "outputs": [],
   "source": []
  },
  {
   "cell_type": "code",
   "execution_count": null,
   "id": "15190709",
   "metadata": {},
   "outputs": [],
   "source": []
  },
  {
   "cell_type": "code",
   "execution_count": null,
   "id": "41f6bef9",
   "metadata": {},
   "outputs": [],
   "source": []
  },
  {
   "cell_type": "code",
   "execution_count": null,
   "id": "a0b70892",
   "metadata": {},
   "outputs": [],
   "source": []
  }
 ],
 "metadata": {
  "kernelspec": {
   "display_name": "Python 3 (ipykernel)",
   "language": "python",
   "name": "python3"
  },
  "language_info": {
   "codemirror_mode": {
    "name": "ipython",
    "version": 3
   },
   "file_extension": ".py",
   "mimetype": "text/x-python",
   "name": "python",
   "nbconvert_exporter": "python",
   "pygments_lexer": "ipython3",
   "version": "3.11.4"
  }
 },
 "nbformat": 4,
 "nbformat_minor": 5
}
